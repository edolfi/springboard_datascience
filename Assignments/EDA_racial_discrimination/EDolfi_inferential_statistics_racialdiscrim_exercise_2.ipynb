{
 "cells": [
  {
   "cell_type": "markdown",
   "metadata": {},
   "source": [
    "# Examining Racial Discrimination in the US Job Market\n",
    "\n",
    "### Background\n",
    "Racial discrimination continues to be pervasive in cultures throughout the world. Researchers examined the level of racial discrimination in the United States labor market by randomly assigning identical résumés to black-sounding or white-sounding names and observing the impact on requests for interviews from employers.\n",
    "\n",
    "### Data\n",
    "In the dataset provided, each row represents a resume. The 'race' column has two values, 'b' and 'w', indicating black-sounding and white-sounding. The column 'call' has two values, 1 and 0, indicating whether the resume received a call from employers or not.\n",
    "\n",
    "Note that the 'b' and 'w' values in race are assigned randomly to the resumes when presented to the employer."
   ]
  },
  {
   "cell_type": "markdown",
   "metadata": {},
   "source": [
    "<div class=\"span5 alert alert-info\">\n",
    "### Exercises\n",
    "You will perform a statistical analysis to establish whether race has a significant impact on the rate of callbacks for resumes.\n",
    "\n",
    "Answer the following questions **in this notebook below and submit to your Github account**. \n",
    "\n",
    "   1. What test is appropriate for this problem? Does CLT apply?\n",
    "   2. What are the null and alternate hypotheses?\n",
    "   3. Compute margin of error, confidence interval, and p-value. Try using both the bootstrapping and the frequentist statistical approaches.\n",
    "   4. Write a story describing the statistical significance in the context or the original problem.\n",
    "   5. Does your analysis mean that race/name is the most important factor in callback success? Why or why not? If not, how would you amend your analysis?\n",
    "\n",
    "You can include written notes in notebook cells using Markdown: \n",
    "   - In the control panel at the top, choose Cell > Cell Type > Markdown\n",
    "   - Markdown syntax: http://nestacms.com/docs/creating-content/markdown-cheat-sheet\n",
    "\n",
    "\n",
    "#### Resources\n",
    "+ Experiment information and data source: http://www.povertyactionlab.org/evaluation/discrimination-job-market-united-states\n",
    "+ Scipy statistical methods: http://docs.scipy.org/doc/scipy/reference/stats.html \n",
    "+ Markdown syntax: http://nestacms.com/docs/creating-content/markdown-cheat-sheet\n",
    "+ Formulas for the Bernoulli distribution: https://en.wikipedia.org/wiki/Bernoulli_distribution\n",
    "</div>\n",
    "****"
   ]
  },
  {
   "cell_type": "code",
   "execution_count": 14,
   "metadata": {},
   "outputs": [],
   "source": [
    "import pandas as pd\n",
    "import numpy as np\n",
    "from scipy import stats\n",
    "import statsmodels.stats as statsm"
   ]
  },
  {
   "cell_type": "code",
   "execution_count": 15,
   "metadata": {},
   "outputs": [],
   "source": [
    "data = pd.io.stata.read_stata('data/us_job_market_discrimination.dta')"
   ]
  },
  {
   "cell_type": "code",
   "execution_count": 16,
   "metadata": {},
   "outputs": [
    {
     "data": {
      "text/plain": [
       "157.0"
      ]
     },
     "execution_count": 16,
     "metadata": {},
     "output_type": "execute_result"
    }
   ],
   "source": [
    "# number of callbacks for black-sounding names\n",
    "sum(data[data.race=='b'].call)"
   ]
  },
  {
   "cell_type": "code",
   "execution_count": 17,
   "metadata": {
    "collapsed": true
   },
   "outputs": [
    {
     "name": "stdout",
     "output_type": "stream",
     "text": [
      "<class 'pandas.core.frame.DataFrame'>\n",
      "Int64Index: 4870 entries, 0 to 4869\n",
      "Data columns (total 65 columns):\n",
      "id                    4870 non-null object\n",
      "ad                    4870 non-null object\n",
      "education             4870 non-null int8\n",
      "ofjobs                4870 non-null int8\n",
      "yearsexp              4870 non-null int8\n",
      "honors                4870 non-null int8\n",
      "volunteer             4870 non-null int8\n",
      "military              4870 non-null int8\n",
      "empholes              4870 non-null int8\n",
      "occupspecific         4870 non-null int16\n",
      "occupbroad            4870 non-null int8\n",
      "workinschool          4870 non-null int8\n",
      "email                 4870 non-null int8\n",
      "computerskills        4870 non-null int8\n",
      "specialskills         4870 non-null int8\n",
      "firstname             4870 non-null object\n",
      "sex                   4870 non-null object\n",
      "race                  4870 non-null object\n",
      "h                     4870 non-null float32\n",
      "l                     4870 non-null float32\n",
      "call                  4870 non-null float32\n",
      "city                  4870 non-null object\n",
      "kind                  4870 non-null object\n",
      "adid                  4870 non-null float32\n",
      "fracblack             4784 non-null float32\n",
      "fracwhite             4784 non-null float32\n",
      "lmedhhinc             4784 non-null float32\n",
      "fracdropout           4784 non-null float32\n",
      "fraccolp              4784 non-null float32\n",
      "linc                  4784 non-null float32\n",
      "col                   4870 non-null float32\n",
      "expminreq             4870 non-null object\n",
      "schoolreq             4870 non-null object\n",
      "eoe                   4870 non-null float32\n",
      "parent_sales          1672 non-null float32\n",
      "parent_emp            1722 non-null float32\n",
      "branch_sales          608 non-null float32\n",
      "branch_emp            658 non-null float32\n",
      "fed                   3102 non-null float32\n",
      "fracblack_empzip      1918 non-null float32\n",
      "fracwhite_empzip      1918 non-null float32\n",
      "lmedhhinc_empzip      1908 non-null float32\n",
      "fracdropout_empzip    1918 non-null float32\n",
      "fraccolp_empzip       1918 non-null float32\n",
      "linc_empzip           1918 non-null float32\n",
      "manager               4870 non-null float32\n",
      "supervisor            4870 non-null float32\n",
      "secretary             4870 non-null float32\n",
      "offsupport            4870 non-null float32\n",
      "salesrep              4870 non-null float32\n",
      "retailsales           4870 non-null float32\n",
      "req                   4870 non-null float32\n",
      "expreq                4870 non-null float32\n",
      "comreq                4870 non-null float32\n",
      "educreq               4870 non-null float32\n",
      "compreq               4870 non-null float32\n",
      "orgreq                4870 non-null float32\n",
      "manuf                 4870 non-null float32\n",
      "transcom              4870 non-null float32\n",
      "bankreal              4870 non-null float32\n",
      "trade                 4870 non-null float32\n",
      "busservice            4870 non-null float32\n",
      "othservice            4870 non-null float32\n",
      "missind               4870 non-null float32\n",
      "ownership             4870 non-null object\n",
      "dtypes: float32(42), int16(1), int8(12), object(10)\n",
      "memory usage: 1.3+ MB\n"
     ]
    }
   ],
   "source": [
    "data.head()\n",
    "data.info()"
   ]
  },
  {
   "cell_type": "code",
   "execution_count": 19,
   "metadata": {},
   "outputs": [
    {
     "name": "stdout",
     "output_type": "stream",
     "text": [
      "(0.0644763857126236, 0.24559901654720306)\n",
      "(0.09650924056768417, 0.29528486728668213)\n"
     ]
    }
   ],
   "source": [
    "print(np.mean(data[data.race=='b'].call),np.std(data[data.race=='b'].call))\n",
    "print(np.mean(data[data.race=='w'].call),np.std(data[data.race=='w'].call))"
   ]
  },
  {
   "cell_type": "markdown",
   "metadata": {
    "collapsed": true
   },
   "source": [
    "<b>Q1.</b> A t-test is appropriate for this problem as we are comparing two populations. Yes, since 'b' and 'w' values in race are assigned randomly to the resumes when presented to the employer, the CLT applies.\n",
    "\n",
    "\n",
    "<b>Q2.</b> \n",
    "<b>Null:</b> The callback rate for black-sounding named applicants and white-sounding named applicants is the same.\n",
    "<b>Alternative:</b> The callback rate for black-sounding named applicants and white-sounding named applicants is the different."
   ]
  },
  {
   "cell_type": "code",
   "execution_count": 18,
   "metadata": {},
   "outputs": [],
   "source": [
    "w = data[data.race=='w']\n",
    "b = data[data.race=='b']"
   ]
  },
  {
   "cell_type": "code",
   "execution_count": 22,
   "metadata": {},
   "outputs": [
    {
     "name": "stdout",
     "output_type": "stream",
     "text": [
      "(0.09650924024640657, 0.06447638603696099)\n"
     ]
    }
   ],
   "source": [
    "def frac_callbacks(s1,s2):\n",
    "    \"\"\"Compute fraction of Democrat yay votes.\"\"\"\n",
    "    frac = np.sum(s1) / len(s1)\n",
    "    return frac\n",
    "\n",
    "w_callrate = frac_callbacks(w.call,b.call)\n",
    "b_callrate = frac_callbacks(b.call,w.call)\n",
    "\n",
    "print(w_callrate, b_callrate)"
   ]
  },
  {
   "cell_type": "code",
   "execution_count": 26,
   "metadata": {},
   "outputs": [
    {
     "name": "stdout",
     "output_type": "stream",
     "text": [
      "[0.07022177 0.09117454]\n",
      "p-value = 0\n"
     ]
    }
   ],
   "source": [
    "def permutation_sample(data1, data2):\n",
    "    \"\"\"Generate a permutation sample from two data sets.\"\"\"\n",
    "\n",
    "    # Concatenate the data sets: data\n",
    "    data = np.concatenate((data1,data2))\n",
    "\n",
    "    # Permute the concatenated array: permuted_data\n",
    "    permuted_data = np.random.permutation(data)\n",
    "\n",
    "    # Split the permuted array into two: perm_sample_1, perm_sample_2\n",
    "    perm_sample_1 = permuted_data[:len(data1)]\n",
    "    perm_sample_2 = permuted_data[len(data1):]\n",
    "\n",
    "    return perm_sample_1, perm_sample_2\n",
    "\n",
    "def draw_perm_reps(data_1, data_2, func, size=1):\n",
    "    \"\"\"Generate multiple permutation replicates.\"\"\"\n",
    "\n",
    "    # Initialize array of replicates: perm_replicates\n",
    "    perm_replicates = np.empty(size)\n",
    "\n",
    "    for i in range(size):\n",
    "        # Generate permutation sample\n",
    "        perm_sample_1, perm_sample_2 = permutation_sample(data_1,data_2)\n",
    "\n",
    "        # Compute the test statistic\n",
    "        perm_replicates[i] = func(perm_sample_1,perm_sample_2)\n",
    "\n",
    "    return perm_replicates\n",
    "\n",
    "# Acquire permutation samples\n",
    "perm_replicates = draw_perm_reps(b.call, w.call, frac_callbacks, 1000)\n",
    "print(np.percentile(perm_replicates, [0.5,99.5]))\n",
    "\n",
    "# Compute and print p-value: p\n",
    "p = np.sum(perm_replicates == w_callrate) / len(perm_replicates)\n",
    "print('p-value = '+str(p))"
   ]
  },
  {
   "cell_type": "code",
   "execution_count": 25,
   "metadata": {
    "collapsed": true
   },
   "outputs": [
    {
     "data": {
      "text/plain": [
       "array([0.07802875, 0.0788501 , 0.0788501 , 0.075154  , 0.07967146,\n",
       "       0.08008214, 0.08008214, 0.08583162, 0.08336756, 0.08049281,\n",
       "       0.08131417, 0.07926078, 0.08665298, 0.08131417, 0.07268994,\n",
       "       0.08213552, 0.0788501 , 0.07638604, 0.08049281, 0.08131417,\n",
       "       0.08049281, 0.08049281, 0.08008214, 0.07926078, 0.07638604,\n",
       "       0.07967146, 0.07638604, 0.08172485, 0.07433265, 0.08049281,\n",
       "       0.08583162, 0.08829569, 0.07802875, 0.08172485, 0.08788501,\n",
       "       0.07802875, 0.08172485, 0.0788501 , 0.075154  , 0.08952772,\n",
       "       0.07433265, 0.08008214, 0.07597536, 0.08213552, 0.08459959,\n",
       "       0.08295688, 0.07926078, 0.08090349, 0.08788501, 0.0825462 ,\n",
       "       0.08459959, 0.07638604, 0.0788501 , 0.07761807, 0.08049281,\n",
       "       0.08377823, 0.08049281, 0.08213552, 0.08131417, 0.07679671,\n",
       "       0.07351129, 0.08213552, 0.08049281, 0.08049281, 0.07802875,\n",
       "       0.08459959, 0.07679671, 0.08172485, 0.07679671, 0.08336756,\n",
       "       0.07967146, 0.08542094, 0.08049281, 0.08172485, 0.08090349,\n",
       "       0.07720739, 0.08131417, 0.08008214, 0.07597536, 0.08213552,\n",
       "       0.07926078, 0.08501027, 0.0788501 , 0.08213552, 0.08008214,\n",
       "       0.08131417, 0.08131417, 0.08090349, 0.08213552, 0.08131417,\n",
       "       0.08459959, 0.07597536, 0.07679671, 0.07597536, 0.08418891,\n",
       "       0.08131417, 0.08336756, 0.08377823, 0.08583162, 0.07926078,\n",
       "       0.08542094, 0.0825462 , 0.07967146, 0.08049281, 0.0788501 ,\n",
       "       0.07761807, 0.08008214, 0.07638604, 0.08336756, 0.08377823,\n",
       "       0.08295688, 0.07638604, 0.075154  , 0.07802875, 0.08418891,\n",
       "       0.07720739, 0.07679671, 0.08008214, 0.08501027, 0.07926078,\n",
       "       0.08008214, 0.08377823, 0.07802875, 0.08131417, 0.0825462 ,\n",
       "       0.08459959, 0.0825462 , 0.08295688, 0.08090349, 0.07679671,\n",
       "       0.08049281, 0.08665298, 0.07843943, 0.07679671, 0.08172485,\n",
       "       0.08501027, 0.08172485, 0.08172485, 0.07926078, 0.07679671,\n",
       "       0.08008214, 0.07967146, 0.08336756, 0.07679671, 0.07433265,\n",
       "       0.07761807, 0.07967146, 0.08049281, 0.07761807, 0.08501027,\n",
       "       0.07227926, 0.0788501 , 0.08295688, 0.07351129, 0.07145791,\n",
       "       0.08706366, 0.07186858, 0.07802875, 0.07802875, 0.07310062,\n",
       "       0.08049281, 0.08172485, 0.08090349, 0.08459959, 0.08172485,\n",
       "       0.08665298, 0.08583162, 0.07433265, 0.07433265, 0.08049281,\n",
       "       0.08049281, 0.08418891, 0.08459959, 0.07720739, 0.07843943,\n",
       "       0.08131417, 0.08542094, 0.08049281, 0.08090349, 0.07474333,\n",
       "       0.08377823, 0.08829569, 0.08418891, 0.07843943, 0.0788501 ,\n",
       "       0.08172485, 0.07556468, 0.07843943, 0.07679671, 0.08870637,\n",
       "       0.08377823, 0.08090349, 0.0788501 , 0.07310062, 0.07926078,\n",
       "       0.075154  , 0.07720739, 0.08295688, 0.07186858, 0.08377823,\n",
       "       0.07433265, 0.07556468, 0.07433265, 0.07761807, 0.08501027,\n",
       "       0.07392197, 0.0862423 , 0.07926078, 0.0825462 , 0.07967146,\n",
       "       0.08213552, 0.08336756, 0.08172485, 0.08295688, 0.08665298,\n",
       "       0.08172485, 0.08583162, 0.08131417, 0.07679671, 0.08583162,\n",
       "       0.08172485, 0.08172485, 0.0788501 , 0.08336756, 0.08542094,\n",
       "       0.08008214, 0.08295688, 0.07433265, 0.08952772, 0.07761807,\n",
       "       0.08213552, 0.0825462 , 0.08501027, 0.0788501 , 0.07433265,\n",
       "       0.08418891, 0.07926078, 0.0825462 , 0.08295688, 0.0788501 ,\n",
       "       0.08090349, 0.08583162, 0.07556468, 0.08213552, 0.08213552,\n",
       "       0.0825462 , 0.08049281, 0.08336756, 0.08213552, 0.07720739,\n",
       "       0.08049281, 0.08952772, 0.08213552, 0.0862423 , 0.08295688,\n",
       "       0.08665298, 0.07761807, 0.07802875, 0.07597536, 0.08459959,\n",
       "       0.07926078, 0.075154  , 0.07967146, 0.07802875, 0.07802875,\n",
       "       0.07638604, 0.08377823, 0.07638604, 0.07556468, 0.08049281,\n",
       "       0.07351129, 0.07351129, 0.0825462 , 0.07967146, 0.07967146,\n",
       "       0.08008214, 0.08090349, 0.08665298, 0.08418891, 0.07761807,\n",
       "       0.08049281, 0.0788501 , 0.08008214, 0.08829569, 0.07063655,\n",
       "       0.07597536, 0.08295688, 0.08583162, 0.08952772, 0.07967146,\n",
       "       0.08418891, 0.07802875, 0.07967146, 0.08049281, 0.08090349,\n",
       "       0.08336756, 0.08172485, 0.08418891, 0.07392197, 0.07310062,\n",
       "       0.07802875, 0.07926078, 0.0825462 , 0.07720739, 0.08418891,\n",
       "       0.07802875, 0.0788501 , 0.07926078, 0.07761807, 0.08049281,\n",
       "       0.08049281, 0.07967146, 0.07638604, 0.07843943, 0.08049281,\n",
       "       0.08542094, 0.07556468, 0.08131417, 0.08870637, 0.07638604,\n",
       "       0.08131417, 0.07392197, 0.07802875, 0.0825462 , 0.08131417,\n",
       "       0.08295688, 0.08295688, 0.07679671, 0.08501027, 0.07720739,\n",
       "       0.07967146, 0.08172485, 0.075154  , 0.08090349, 0.07843943,\n",
       "       0.08131417, 0.08418891, 0.07967146, 0.07597536, 0.08049281,\n",
       "       0.07926078, 0.08870637, 0.08501027, 0.07967146, 0.08418891,\n",
       "       0.0862423 , 0.07926078, 0.07926078, 0.07843943, 0.07227926,\n",
       "       0.07967146, 0.07761807, 0.08295688, 0.0788501 , 0.07351129,\n",
       "       0.08336756, 0.0862423 , 0.0788501 , 0.08377823, 0.08706366,\n",
       "       0.08418891, 0.07679671, 0.08418891, 0.08008214, 0.06817248,\n",
       "       0.07638604, 0.07556468, 0.07926078, 0.08131417, 0.08295688,\n",
       "       0.07433265, 0.07310062, 0.07967146, 0.0825462 , 0.08049281,\n",
       "       0.08213552, 0.07926078, 0.08213552, 0.0825462 , 0.0788501 ,\n",
       "       0.08418891, 0.07392197, 0.08295688, 0.08131417, 0.08706366,\n",
       "       0.08542094, 0.0825462 , 0.08213552, 0.07926078, 0.07843943,\n",
       "       0.08542094, 0.07638604, 0.07843943, 0.07145791, 0.0862423 ,\n",
       "       0.08336756, 0.08418891, 0.08377823, 0.08295688, 0.08295688,\n",
       "       0.07679671, 0.08870637, 0.07926078, 0.08172485, 0.08008214,\n",
       "       0.07761807, 0.07433265, 0.07310062, 0.07679671, 0.08459959,\n",
       "       0.07761807, 0.07720739, 0.07967146, 0.075154  , 0.08172485,\n",
       "       0.07843943, 0.07474333, 0.07597536, 0.08542094, 0.07802875,\n",
       "       0.0825462 , 0.08172485, 0.08090349, 0.07227926, 0.07186858,\n",
       "       0.08172485, 0.08747433, 0.08213552, 0.0788501 , 0.08459959,\n",
       "       0.08008214, 0.075154  , 0.07638604, 0.08377823, 0.08213552,\n",
       "       0.08090349, 0.07679671, 0.08377823, 0.08336756, 0.08172485,\n",
       "       0.07679671, 0.0698152 , 0.08090349, 0.07351129, 0.07104723,\n",
       "       0.07843943, 0.08049281, 0.08049281, 0.08377823, 0.07104723,\n",
       "       0.08542094, 0.08008214, 0.07843943, 0.07310062, 0.08295688,\n",
       "       0.08008214, 0.07967146, 0.08131417, 0.07474333, 0.08131417,\n",
       "       0.08172485, 0.08213552, 0.08172485, 0.08665298, 0.07433265,\n",
       "       0.08213552, 0.08090349, 0.08665298, 0.08542094, 0.07802875,\n",
       "       0.08090349, 0.07433265, 0.08213552, 0.08706366, 0.07761807,\n",
       "       0.08665298, 0.08008214, 0.08172485, 0.08788501, 0.07843943,\n",
       "       0.08336756, 0.08008214, 0.07926078, 0.07761807, 0.07761807,\n",
       "       0.08706366, 0.08008214, 0.08295688, 0.08172485, 0.08090349,\n",
       "       0.08213552, 0.08501027, 0.08008214, 0.08172485, 0.0788501 ,\n",
       "       0.08377823, 0.07802875, 0.0788501 , 0.08459959, 0.08131417,\n",
       "       0.07926078, 0.07761807, 0.07063655, 0.08131417, 0.07679671,\n",
       "       0.07720739, 0.08336756, 0.08131417, 0.08336756, 0.07802875,\n",
       "       0.0788501 , 0.075154  , 0.07967146, 0.075154  , 0.07638604,\n",
       "       0.08131417, 0.0825462 , 0.08542094, 0.08090349, 0.08049281,\n",
       "       0.07679671, 0.08090349, 0.07843943, 0.07638604, 0.07720739,\n",
       "       0.08336756, 0.08583162, 0.08213552, 0.08049281, 0.08295688,\n",
       "       0.08377823, 0.07802875, 0.08295688, 0.08090349, 0.08706366,\n",
       "       0.08090349, 0.07679671, 0.0825462 , 0.07433265, 0.07843943,\n",
       "       0.07268994, 0.07186858, 0.07679671, 0.08131417, 0.08008214,\n",
       "       0.07638604, 0.07761807, 0.08870637, 0.08049281, 0.08377823,\n",
       "       0.08008214, 0.07351129, 0.07145791, 0.07556468, 0.07843943,\n",
       "       0.08131417, 0.07843943, 0.08418891, 0.08583162, 0.08336756,\n",
       "       0.08747433, 0.07022587, 0.07679671, 0.0788501 , 0.08131417,\n",
       "       0.08418891, 0.07310062, 0.08213552, 0.07967146, 0.08377823,\n",
       "       0.08008214, 0.0788501 , 0.07720739, 0.08459959, 0.07926078,\n",
       "       0.07720739, 0.08049281, 0.08172485, 0.08131417, 0.08049281,\n",
       "       0.075154  , 0.08295688, 0.07926078, 0.07843943, 0.08008214,\n",
       "       0.08336756, 0.08049281, 0.08213552, 0.08542094, 0.08583162,\n",
       "       0.08336756, 0.07926078, 0.08049281, 0.08542094, 0.07926078,\n",
       "       0.08172485, 0.07761807, 0.08542094, 0.07597536, 0.07802875,\n",
       "       0.07926078, 0.08336756, 0.08090349, 0.08501027, 0.075154  ,\n",
       "       0.07433265, 0.07433265, 0.08172485, 0.07843943, 0.07474333,\n",
       "       0.08090349, 0.08418891, 0.08377823, 0.08131417, 0.0825462 ,\n",
       "       0.08172485, 0.08213552, 0.07720739, 0.07392197, 0.08542094,\n",
       "       0.07433265, 0.08049281, 0.0788501 , 0.07843943, 0.08049281,\n",
       "       0.0788501 , 0.08295688, 0.08131417, 0.0788501 , 0.07761807,\n",
       "       0.08172485, 0.07679671, 0.075154  , 0.07720739, 0.08706366,\n",
       "       0.07474333, 0.08213552, 0.08008214, 0.07433265, 0.08213552,\n",
       "       0.07802875, 0.08008214, 0.07802875, 0.07761807, 0.07843943,\n",
       "       0.07761807, 0.07268994, 0.09034908, 0.0825462 , 0.07679671,\n",
       "       0.08336756, 0.0825462 , 0.08459959, 0.07926078, 0.08706366,\n",
       "       0.08049281, 0.08336756, 0.07802875, 0.08542094, 0.08418891,\n",
       "       0.08131417, 0.08336756, 0.07761807, 0.08665298, 0.07967146,\n",
       "       0.08501027, 0.08829569, 0.075154  , 0.07843943, 0.08583162,\n",
       "       0.08459959, 0.08049281, 0.0788501 , 0.07926078, 0.08172485,\n",
       "       0.08172485, 0.08542094, 0.07843943, 0.0788501 , 0.08213552,\n",
       "       0.07926078, 0.0825462 , 0.07104723, 0.08213552, 0.08008214,\n",
       "       0.075154  , 0.08459959, 0.08090349, 0.07967146, 0.08583162,\n",
       "       0.08049281, 0.07720739, 0.08459959, 0.08008214, 0.0788501 ,\n",
       "       0.08377823, 0.08418891, 0.07556468, 0.0862423 , 0.08747433,\n",
       "       0.08172485, 0.07967146, 0.08295688, 0.07679671, 0.08706366,\n",
       "       0.07926078, 0.07433265, 0.08172485, 0.08295688, 0.08049281,\n",
       "       0.08295688, 0.08336756, 0.0825462 , 0.07802875, 0.08172485,\n",
       "       0.07926078, 0.07638604, 0.08377823, 0.07926078, 0.08008214,\n",
       "       0.08131417, 0.075154  , 0.07926078, 0.07474333, 0.07638604,\n",
       "       0.07843943, 0.0788501 , 0.0788501 , 0.0788501 , 0.08131417,\n",
       "       0.08377823, 0.07926078, 0.08418891, 0.08418891, 0.08829569,\n",
       "       0.07597536, 0.07268994, 0.08049281, 0.07926078, 0.07638604,\n",
       "       0.08049281, 0.0788501 , 0.075154  , 0.08501027, 0.0788501 ,\n",
       "       0.08049281, 0.08706366, 0.08870637, 0.07679671, 0.08665298,\n",
       "       0.08131417, 0.08501027, 0.07679671, 0.08377823, 0.08049281,\n",
       "       0.07802875, 0.07679671, 0.07638604, 0.08131417, 0.08665298,\n",
       "       0.08008214, 0.07392197, 0.0788501 , 0.0788501 , 0.075154  ,\n",
       "       0.08542094, 0.0788501 , 0.07967146, 0.07104723, 0.07679671,\n",
       "       0.08336756, 0.08131417, 0.07679671, 0.08049281, 0.08418891,\n",
       "       0.07597536, 0.08501027, 0.0825462 , 0.07310062, 0.08501027,\n",
       "       0.08583162, 0.08008214, 0.0825462 , 0.07433265, 0.08172485,\n",
       "       0.07926078, 0.08542094, 0.08336756, 0.0862423 , 0.08131417,\n",
       "       0.07597536, 0.07926078, 0.08008214, 0.08172485, 0.08008214,\n",
       "       0.08049281, 0.08501027, 0.08049281, 0.08295688, 0.07926078,\n",
       "       0.07638604, 0.08213552, 0.08665298, 0.075154  , 0.08377823,\n",
       "       0.07967146, 0.08829569, 0.08008214, 0.08542094, 0.07926078,\n",
       "       0.07597536, 0.07802875, 0.07761807, 0.08952772, 0.08049281,\n",
       "       0.0788501 , 0.08172485, 0.08501027, 0.08172485, 0.07926078,\n",
       "       0.075154  , 0.07926078, 0.08090349, 0.08049281, 0.08090349,\n",
       "       0.07843943, 0.08542094, 0.08295688, 0.08213552, 0.075154  ,\n",
       "       0.07843943, 0.07761807, 0.08213552, 0.07638604, 0.08049281,\n",
       "       0.07802875, 0.07761807, 0.07638604, 0.08829569, 0.0825462 ,\n",
       "       0.08090349, 0.08213552, 0.0862423 , 0.07474333, 0.06776181,\n",
       "       0.08049281, 0.08049281, 0.08131417, 0.08295688, 0.08501027,\n",
       "       0.08377823, 0.0825462 , 0.08090349, 0.08336756, 0.08829569,\n",
       "       0.08172485, 0.07761807, 0.08336756, 0.08706366, 0.07843943,\n",
       "       0.07967146, 0.0825462 , 0.09075975, 0.08377823, 0.07556468,\n",
       "       0.08501027, 0.07597536, 0.08008214, 0.0825462 , 0.07761807,\n",
       "       0.08418891, 0.08295688, 0.07310062, 0.08542094, 0.075154  ,\n",
       "       0.08049281, 0.07843943, 0.07392197, 0.07679671, 0.07802875,\n",
       "       0.08583162, 0.0825462 , 0.07967146, 0.08172485, 0.08336756,\n",
       "       0.07597536, 0.0825462 , 0.08049281, 0.08295688, 0.07926078,\n",
       "       0.08336756, 0.07597536, 0.08583162, 0.07926078, 0.08049281,\n",
       "       0.08295688, 0.0788501 , 0.08131417, 0.07720739, 0.08295688,\n",
       "       0.08377823, 0.08090349, 0.07843943, 0.08172485, 0.0825462 ,\n",
       "       0.07761807, 0.07967146, 0.07967146, 0.08090349, 0.08418891,\n",
       "       0.08213552, 0.07843943, 0.08049281, 0.07145791, 0.08542094,\n",
       "       0.08336756, 0.08295688, 0.08131417, 0.0788501 , 0.08336756,\n",
       "       0.08172485, 0.0825462 , 0.07843943, 0.08172485, 0.08583162,\n",
       "       0.07268994, 0.07926078, 0.0825462 , 0.0825462 , 0.08295688,\n",
       "       0.07104723, 0.08049281, 0.08008214, 0.08049281, 0.07761807,\n",
       "       0.08049281, 0.08172485, 0.07926078, 0.08008214, 0.08172485,\n",
       "       0.07843943, 0.08336756, 0.07802875, 0.07392197, 0.08090349,\n",
       "       0.08172485, 0.08172485, 0.07967146, 0.075154  , 0.07720739,\n",
       "       0.07638604, 0.07597536, 0.07022587, 0.07761807, 0.08706366,\n",
       "       0.08213552, 0.08336756, 0.07392197, 0.07802875, 0.08542094,\n",
       "       0.08501027, 0.07843943, 0.07802875, 0.07926078, 0.07802875,\n",
       "       0.0825462 , 0.08459959, 0.08336756, 0.07679671, 0.07761807,\n",
       "       0.08049281, 0.07802875, 0.0825462 , 0.08542094, 0.07926078,\n",
       "       0.075154  , 0.08090349, 0.08501027, 0.07679671, 0.08213552,\n",
       "       0.08131417, 0.07926078, 0.08583162, 0.08049281, 0.08049281,\n",
       "       0.08172485, 0.075154  , 0.0825462 , 0.07843943, 0.08829569,\n",
       "       0.08418891, 0.07926078, 0.08213552, 0.08336756, 0.08213552,\n",
       "       0.08131417, 0.08213552, 0.07967146, 0.07926078, 0.08706366])"
      ]
     },
     "execution_count": 25,
     "metadata": {},
     "output_type": "execute_result"
    }
   ],
   "source": []
  },
  {
   "cell_type": "markdown",
   "metadata": {},
   "source": [
    "<b>Q4.</b> With the p-value above, we can reject our null hypothesis that race does not have an impact on whether or not an applicant gets a call back. This p-value demonstrates how small the likelihood is of receiving a callback rate for black-sounding names that is as high as the sample callback rate of white-sounding names.\n",
    "\n",
    "<b>Q5.</b> Although we can reject our null hypothesis, we need to consider the practical significance of our results. There are (hopefully!) many other factors considered in choosing which applicants receive a call back (e.g. experience, education, location, etc.). It would be worth controlling for those factors in future hypothesis tests with this data.\n"
   ]
  },
  {
   "cell_type": "markdown",
   "metadata": {},
   "source": []
  },
  {
   "cell_type": "code",
   "execution_count": null,
   "metadata": {},
   "outputs": [],
   "source": []
  },
  {
   "cell_type": "code",
   "execution_count": null,
   "metadata": {
    "collapsed": true
   },
   "outputs": [],
   "source": []
  }
 ],
 "metadata": {
  "kernelspec": {
   "display_name": "Python 2",
   "language": "python",
   "name": "python2"
  },
  "language_info": {
   "codemirror_mode": {
    "name": "ipython",
    "version": 2
   },
   "file_extension": ".py",
   "mimetype": "text/x-python",
   "name": "python",
   "nbconvert_exporter": "python",
   "pygments_lexer": "ipython2",
   "version": "2.7.14"
  }
 },
 "nbformat": 4,
 "nbformat_minor": 1
}
