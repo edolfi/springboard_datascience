{
 "cells": [
  {
   "cell_type": "code",
   "execution_count": 2,
   "metadata": {},
   "outputs": [],
   "source": [
    "import pandas as pd\n",
    "import numpy as np\n",
    "import matplotlib.pyplot as plt\n",
    "import seaborn as sns\n",
    "import os\n",
    "\n",
    "os.chdir(r'/Users/emmaleedolfi/springboard_datascience/Capstone')"
   ]
  },
  {
   "cell_type": "code",
   "execution_count": 3,
   "metadata": {},
   "outputs": [],
   "source": [
    "tweets = pd.read_excel('NYC_tweets_parkTag.xls', index_col = 'FID')"
   ]
  },
  {
   "cell_type": "code",
   "execution_count": 4,
   "metadata": {},
   "outputs": [],
   "source": [
    "parkFeature = pd.read_csv('Parks_RandSample.csv', header = None)\n",
    "parkInfo_full = pd.read_csv('ParkFeatures_joined.csv')"
   ]
  },
  {
   "cell_type": "code",
   "execution_count": 5,
   "metadata": {},
   "outputs": [
    {
     "data": {
      "text/html": [
       "<div>\n",
       "<style scoped>\n",
       "    .dataframe tbody tr th:only-of-type {\n",
       "        vertical-align: middle;\n",
       "    }\n",
       "\n",
       "    .dataframe tbody tr th {\n",
       "        vertical-align: top;\n",
       "    }\n",
       "\n",
       "    .dataframe thead th {\n",
       "        text-align: right;\n",
       "    }\n",
       "</style>\n",
       "<table border=\"1\" class=\"dataframe\">\n",
       "  <thead>\n",
       "    <tr style=\"text-align: right;\">\n",
       "      <th></th>\n",
       "      <th>FID_1</th>\n",
       "      <th>id_str</th>\n",
       "      <th>owner_name</th>\n",
       "      <th>tweet_text</th>\n",
       "      <th>date_taken</th>\n",
       "      <th>latitude</th>\n",
       "      <th>longitude</th>\n",
       "      <th>FID_2</th>\n",
       "      <th>GISPROPNUM</th>\n",
       "      <th>LOCATION</th>\n",
       "      <th>BOROUGH</th>\n",
       "      <th>ACRES</th>\n",
       "      <th>ADDRESS</th>\n",
       "      <th>SIGNNAME</th>\n",
       "      <th>TYPECATEGO</th>\n",
       "      <th>TPL_GIS</th>\n",
       "      <th>MGT</th>\n",
       "      <th>TPL_AREA</th>\n",
       "      <th>TPL_ACRES</th>\n",
       "      <th>Distance</th>\n",
       "    </tr>\n",
       "    <tr>\n",
       "      <th>FID</th>\n",
       "      <th></th>\n",
       "      <th></th>\n",
       "      <th></th>\n",
       "      <th></th>\n",
       "      <th></th>\n",
       "      <th></th>\n",
       "      <th></th>\n",
       "      <th></th>\n",
       "      <th></th>\n",
       "      <th></th>\n",
       "      <th></th>\n",
       "      <th></th>\n",
       "      <th></th>\n",
       "      <th></th>\n",
       "      <th></th>\n",
       "      <th></th>\n",
       "      <th></th>\n",
       "      <th></th>\n",
       "      <th></th>\n",
       "      <th></th>\n",
       "    </tr>\n",
       "  </thead>\n",
       "  <tbody>\n",
       "    <tr>\n",
       "      <th>0</th>\n",
       "      <td>1607</td>\n",
       "      <td>169212751297000000</td>\n",
       "      <td>JohnMcCarthyyy</td>\n",
       "      <td>Secrets never stay secrets forever</td>\n",
       "      <td>20120214</td>\n",
       "      <td>40.512285</td>\n",
       "      <td>-74.197688</td>\n",
       "      <td>0</td>\n",
       "      <td>R079</td>\n",
       "      <td>Hylan Blvd. from Sharrott Ave. to Seguine Ave.</td>\n",
       "      <td>R</td>\n",
       "      <td>104.545</td>\n",
       "      <td>91 TRENTON COURT</td>\n",
       "      <td>Lemon Creek Park</td>\n",
       "      <td>Waterfront Facility</td>\n",
       "      <td>0</td>\n",
       "      <td>NYC Parks</td>\n",
       "      <td>4.554019e+06</td>\n",
       "      <td>104.545887</td>\n",
       "      <td>0</td>\n",
       "    </tr>\n",
       "    <tr>\n",
       "      <th>1</th>\n",
       "      <td>2800</td>\n",
       "      <td>181950950029000000</td>\n",
       "      <td>Firebutterfly11</td>\n",
       "      <td>I'm at Lemon Creek Park (Staten Island  New Yo...</td>\n",
       "      <td>20120320</td>\n",
       "      <td>40.512235</td>\n",
       "      <td>-74.197620</td>\n",
       "      <td>0</td>\n",
       "      <td>R079</td>\n",
       "      <td>Hylan Blvd. from Sharrott Ave. to Seguine Ave.</td>\n",
       "      <td>R</td>\n",
       "      <td>104.545</td>\n",
       "      <td>91 TRENTON COURT</td>\n",
       "      <td>Lemon Creek Park</td>\n",
       "      <td>Waterfront Facility</td>\n",
       "      <td>0</td>\n",
       "      <td>NYC Parks</td>\n",
       "      <td>4.554019e+06</td>\n",
       "      <td>104.545887</td>\n",
       "      <td>0</td>\n",
       "    </tr>\n",
       "    <tr>\n",
       "      <th>2</th>\n",
       "      <td>3359</td>\n",
       "      <td>188520016072000000</td>\n",
       "      <td>Firebutterfly11</td>\n",
       "      <td>I'm at Lemon Creek Park (Staten Island  New Yo...</td>\n",
       "      <td>20120407</td>\n",
       "      <td>40.512235</td>\n",
       "      <td>-74.197620</td>\n",
       "      <td>0</td>\n",
       "      <td>R079</td>\n",
       "      <td>Hylan Blvd. from Sharrott Ave. to Seguine Ave.</td>\n",
       "      <td>R</td>\n",
       "      <td>104.545</td>\n",
       "      <td>91 TRENTON COURT</td>\n",
       "      <td>Lemon Creek Park</td>\n",
       "      <td>Waterfront Facility</td>\n",
       "      <td>0</td>\n",
       "      <td>NYC Parks</td>\n",
       "      <td>4.554019e+06</td>\n",
       "      <td>104.545887</td>\n",
       "      <td>0</td>\n",
       "    </tr>\n",
       "    <tr>\n",
       "      <th>3</th>\n",
       "      <td>3360</td>\n",
       "      <td>188520015959000000</td>\n",
       "      <td>Firebutterfly11</td>\n",
       "      <td>I just ousted Eric F. as the mayor of Lemon Cr...</td>\n",
       "      <td>20120407</td>\n",
       "      <td>40.512235</td>\n",
       "      <td>-74.197620</td>\n",
       "      <td>0</td>\n",
       "      <td>R079</td>\n",
       "      <td>Hylan Blvd. from Sharrott Ave. to Seguine Ave.</td>\n",
       "      <td>R</td>\n",
       "      <td>104.545</td>\n",
       "      <td>91 TRENTON COURT</td>\n",
       "      <td>Lemon Creek Park</td>\n",
       "      <td>Waterfront Facility</td>\n",
       "      <td>0</td>\n",
       "      <td>NYC Parks</td>\n",
       "      <td>4.554019e+06</td>\n",
       "      <td>104.545887</td>\n",
       "      <td>0</td>\n",
       "    </tr>\n",
       "    <tr>\n",
       "      <th>4</th>\n",
       "      <td>3462</td>\n",
       "      <td>189857125852000000</td>\n",
       "      <td>TiffanyVaglio</td>\n",
       "      <td>I'm at Lemon Creek Park (Staten Island  New Yo...</td>\n",
       "      <td>20120410</td>\n",
       "      <td>40.512235</td>\n",
       "      <td>-74.197620</td>\n",
       "      <td>0</td>\n",
       "      <td>R079</td>\n",
       "      <td>Hylan Blvd. from Sharrott Ave. to Seguine Ave.</td>\n",
       "      <td>R</td>\n",
       "      <td>104.545</td>\n",
       "      <td>91 TRENTON COURT</td>\n",
       "      <td>Lemon Creek Park</td>\n",
       "      <td>Waterfront Facility</td>\n",
       "      <td>0</td>\n",
       "      <td>NYC Parks</td>\n",
       "      <td>4.554019e+06</td>\n",
       "      <td>104.545887</td>\n",
       "      <td>0</td>\n",
       "    </tr>\n",
       "  </tbody>\n",
       "</table>\n",
       "</div>"
      ],
      "text/plain": [
       "     FID_1              id_str       owner_name  \\\n",
       "FID                                               \n",
       "0     1607  169212751297000000   JohnMcCarthyyy   \n",
       "1     2800  181950950029000000  Firebutterfly11   \n",
       "2     3359  188520016072000000  Firebutterfly11   \n",
       "3     3360  188520015959000000  Firebutterfly11   \n",
       "4     3462  189857125852000000    TiffanyVaglio   \n",
       "\n",
       "                                            tweet_text  date_taken   latitude  \\\n",
       "FID                                                                             \n",
       "0                   Secrets never stay secrets forever    20120214  40.512285   \n",
       "1    I'm at Lemon Creek Park (Staten Island  New Yo...    20120320  40.512235   \n",
       "2    I'm at Lemon Creek Park (Staten Island  New Yo...    20120407  40.512235   \n",
       "3    I just ousted Eric F. as the mayor of Lemon Cr...    20120407  40.512235   \n",
       "4    I'm at Lemon Creek Park (Staten Island  New Yo...    20120410  40.512235   \n",
       "\n",
       "     longitude  FID_2 GISPROPNUM  \\\n",
       "FID                                \n",
       "0   -74.197688      0       R079   \n",
       "1   -74.197620      0       R079   \n",
       "2   -74.197620      0       R079   \n",
       "3   -74.197620      0       R079   \n",
       "4   -74.197620      0       R079   \n",
       "\n",
       "                                           LOCATION BOROUGH    ACRES  \\\n",
       "FID                                                                    \n",
       "0    Hylan Blvd. from Sharrott Ave. to Seguine Ave.       R  104.545   \n",
       "1    Hylan Blvd. from Sharrott Ave. to Seguine Ave.       R  104.545   \n",
       "2    Hylan Blvd. from Sharrott Ave. to Seguine Ave.       R  104.545   \n",
       "3    Hylan Blvd. from Sharrott Ave. to Seguine Ave.       R  104.545   \n",
       "4    Hylan Blvd. from Sharrott Ave. to Seguine Ave.       R  104.545   \n",
       "\n",
       "              ADDRESS          SIGNNAME           TYPECATEGO  TPL_GIS  \\\n",
       "FID                                                                     \n",
       "0    91 TRENTON COURT  Lemon Creek Park  Waterfront Facility        0   \n",
       "1    91 TRENTON COURT  Lemon Creek Park  Waterfront Facility        0   \n",
       "2    91 TRENTON COURT  Lemon Creek Park  Waterfront Facility        0   \n",
       "3    91 TRENTON COURT  Lemon Creek Park  Waterfront Facility        0   \n",
       "4    91 TRENTON COURT  Lemon Creek Park  Waterfront Facility        0   \n",
       "\n",
       "           MGT      TPL_AREA   TPL_ACRES  Distance  \n",
       "FID                                                 \n",
       "0    NYC Parks  4.554019e+06  104.545887         0  \n",
       "1    NYC Parks  4.554019e+06  104.545887         0  \n",
       "2    NYC Parks  4.554019e+06  104.545887         0  \n",
       "3    NYC Parks  4.554019e+06  104.545887         0  \n",
       "4    NYC Parks  4.554019e+06  104.545887         0  "
      ]
     },
     "execution_count": 5,
     "metadata": {},
     "output_type": "execute_result"
    }
   ],
   "source": [
    "tweets.head()"
   ]
  },
  {
   "cell_type": "code",
   "execution_count": 6,
   "metadata": {
    "scrolled": true
   },
   "outputs": [
    {
     "data": {
      "text/html": [
       "<div>\n",
       "<style scoped>\n",
       "    .dataframe tbody tr th:only-of-type {\n",
       "        vertical-align: middle;\n",
       "    }\n",
       "\n",
       "    .dataframe tbody tr th {\n",
       "        vertical-align: top;\n",
       "    }\n",
       "\n",
       "    .dataframe thead th {\n",
       "        text-align: right;\n",
       "    }\n",
       "</style>\n",
       "<table border=\"1\" class=\"dataframe\">\n",
       "  <thead>\n",
       "    <tr style=\"text-align: right;\">\n",
       "      <th></th>\n",
       "      <th>GISPROPNUM</th>\n",
       "      <th>tweet_count</th>\n",
       "    </tr>\n",
       "  </thead>\n",
       "  <tbody>\n",
       "    <tr>\n",
       "      <th>0</th>\n",
       "      <td>B019</td>\n",
       "      <td>872</td>\n",
       "    </tr>\n",
       "    <tr>\n",
       "      <th>1</th>\n",
       "      <td>B042</td>\n",
       "      <td>59</td>\n",
       "    </tr>\n",
       "    <tr>\n",
       "      <th>2</th>\n",
       "      <td>B058</td>\n",
       "      <td>7554</td>\n",
       "    </tr>\n",
       "    <tr>\n",
       "      <th>3</th>\n",
       "      <td>B085</td>\n",
       "      <td>81</td>\n",
       "    </tr>\n",
       "    <tr>\n",
       "      <th>4</th>\n",
       "      <td>B121</td>\n",
       "      <td>23</td>\n",
       "    </tr>\n",
       "  </tbody>\n",
       "</table>\n",
       "</div>"
      ],
      "text/plain": [
       "  GISPROPNUM  tweet_count\n",
       "0       B019          872\n",
       "1       B042           59\n",
       "2       B058         7554\n",
       "3       B085           81\n",
       "4       B121           23"
      ]
     },
     "execution_count": 6,
     "metadata": {},
     "output_type": "execute_result"
    }
   ],
   "source": [
    "parks_tweetCount = pd.DataFrame(tweets[['SIGNNAME', 'GISPROPNUM']].groupby('GISPROPNUM').agg('count'))\n",
    "parks_tweetCount = parks_tweetCount.reset_index()\n",
    "parks_tweetCount.columns = ['GISPROPNUM','tweet_count']\n",
    "parks_tweetCount.head()"
   ]
  },
  {
   "cell_type": "code",
   "execution_count": 8,
   "metadata": {},
   "outputs": [
    {
     "name": "stdout",
     "output_type": "stream",
     "text": [
      "<class 'pandas.core.frame.DataFrame'>\n",
      "Int64Index: 98 entries, 0 to 97\n",
      "Data columns (total 36 columns):\n",
      "Unnamed: 0          98 non-null int64\n",
      "GISPROPNUM          98 non-null object\n",
      "BOROUGH             98 non-null object\n",
      "ACRES               98 non-null float64\n",
      "SIGNNAME            98 non-null object\n",
      "TYPECATEGO          98 non-null object\n",
      "handball            98 non-null float64\n",
      "tennis              98 non-null float64\n",
      "basketball          98 non-null float64\n",
      "adult_soft          98 non-null float64\n",
      "track_and           98 non-null float64\n",
      "play_area_count     98 non-null float64\n",
      "preserve_count      98 non-null float64\n",
      "spray_count         98 non-null float64\n",
      "OBJECTID            98 non-null int64\n",
      "TPL_P_NAME          98 non-null object\n",
      "FREQUENCY           98 non-null int64\n",
      "SUM_SVCAREA         98 non-null float64\n",
      "SUM_TOTPOPSVCA      98 non-null int64\n",
      "SUM_KIDSVCA         98 non-null int64\n",
      "SUM_YOUNGPROSVCA    98 non-null int64\n",
      "SUM_SENIORSVCA      98 non-null int64\n",
      "SUM_HHILOWSVCA      98 non-null int64\n",
      "SUM_HHIMEDSVCA      98 non-null int64\n",
      "SUM_HHIHIGHSVCA     98 non-null int64\n",
      "SUM_TOTHHSVCA       98 non-null int64\n",
      "SUM_WHITE_SVC       98 non-null int64\n",
      "SUM_BLACK_SVC       98 non-null int64\n",
      "SUM_AMERINDSVC      98 non-null int64\n",
      "SUM_ASIAN_SVC       98 non-null int64\n",
      "SUM_PACIFICSVC      98 non-null int64\n",
      "SUM_OTHRACESVC      98 non-null int64\n",
      "SUM_RACE2UPSVC      98 non-null int64\n",
      "SUM_HISP_SVC        98 non-null int64\n",
      "total_amenities     98 non-null float64\n",
      "tweet_count         98 non-null int64\n",
      "dtypes: float64(11), int64(20), object(5)\n",
      "memory usage: 28.3+ KB\n"
     ]
    }
   ],
   "source": [
    "parksInfo = pd.merge(parkInfo_full, parks_tweetCount, left_on = 'GISPROPNUM', right_on='GISPROPNUM',how='inner')\n",
    "parksInfo.info()"
   ]
  },
  {
   "cell_type": "code",
   "execution_count": 9,
   "metadata": {},
   "outputs": [
    {
     "name": "stdout",
     "output_type": "stream",
     "text": [
      "count       98.00000\n",
      "mean       568.55102\n",
      "std       2435.58974\n",
      "min          2.00000\n",
      "25%         22.00000\n",
      "50%         53.50000\n",
      "75%        242.75000\n",
      "max      22373.00000\n",
      "Name: tweet_count, dtype: float64\n",
      "count    98.000000\n",
      "mean      4.642857\n",
      "std       7.179941\n",
      "min       0.000000\n",
      "25%       0.000000\n",
      "50%       1.500000\n",
      "75%       7.750000\n",
      "max      37.000000\n",
      "Name: total_amenities, dtype: float64\n",
      "count     98.000000\n",
      "mean       9.369663\n",
      "std       43.690915\n",
      "min        0.000000\n",
      "25%        0.372802\n",
      "50%        0.953157\n",
      "75%        2.845750\n",
      "max      413.800000\n",
      "Name: ACRES, dtype: float64\n",
      "count       98.000000\n",
      "mean     25762.928571\n",
      "std      16728.080197\n",
      "min        108.000000\n",
      "25%      10935.750000\n",
      "50%      23501.000000\n",
      "75%      36580.000000\n",
      "max      63650.000000\n",
      "Name: SUM_TOTPOPSVCA, dtype: float64\n"
     ]
    }
   ],
   "source": [
    "print(parksInfo['tweet_count'].describe())\n",
    "print(parksInfo['total_amenities'].describe())\n",
    "print(parksInfo['ACRES'].describe())\n",
    "print(parksInfo['SUM_TOTPOPSVCA'].describe())"
   ]
  },
  {
   "cell_type": "code",
   "execution_count": 10,
   "metadata": {},
   "outputs": [
    {
     "data": {
      "image/png": "[encoded data removed]",
      "text/plain": [
       "<matplotlib.figure.Figure at 0x1a10dfd850>"
      ]
     },
     "metadata": {},
     "output_type": "display_data"
    }
   ],
   "source": [
    "# plot scatter of park size and tweets and find correlation\n",
    "sns.jointplot('ACRES', 'tweet_count', data = parksInfo,color='g', xlim=(0,5), ylim=(0,250))\n",
    "plt.show()"
   ]
  },
  {
   "cell_type": "code",
   "execution_count": 11,
   "metadata": {},
   "outputs": [
    {
     "data": {
      "image/png": "[encoded data removed]",
      "text/plain": [
       "<matplotlib.figure.Figure at 0x1a10dfd710>"
      ]
     },
     "metadata": {},
     "output_type": "display_data"
    }
   ],
   "source": [
    "# plot scatter of # of amenities and park usage and find correlation\n",
    "sns.jointplot('total_amenities', 'tweet_count', color = 'red',ylim = (0,2500), data = parksInfo)\n",
    "plt.show()"
   ]
  },
  {
   "cell_type": "code",
   "execution_count": 12,
   "metadata": {},
   "outputs": [
    {
     "data": {
      "image/png": "[encoded data removed]",
      "text/plain": [
       "<matplotlib.figure.Figure at 0x1a0f92d150>"
      ]
     },
     "metadata": {},
     "output_type": "display_data"
    }
   ],
   "source": [
    "# plot scatter of # of people within a 10MW and park usage and find correlation\n",
    "sns.jointplot('SUM_TOTPOPSVCA', 'tweet_count', color = 'orange',ylim = (0,2500), data = parksInfo)\n",
    "plt.show()"
   ]
  },
  {
   "cell_type": "code",
   "execution_count": 13,
   "metadata": {},
   "outputs": [
    {
     "data": {
      "image/png": "[encoded data removed]",
      "text/plain": [
       "<matplotlib.figure.Figure at 0x1a10c07790>"
      ]
     },
     "metadata": {},
     "output_type": "display_data"
    }
   ],
   "source": [
    " # plot scatter of # of people within a 10MW and park usage and find correlation\n",
    "sns.jointplot('SUM_HHILOWSVCA', 'tweet_count', color = 'purple',ylim = (0,2500), data = parksInfo)\n",
    "plt.show()"
   ]
  },
  {
   "cell_type": "code",
   "execution_count": 14,
   "metadata": {},
   "outputs": [],
   "source": [
    "# generate permutation samples to compare difference in means\n",
    "def diff_of_means(data_1, data_2):\n",
    "    \"\"\"Difference in means of two arrays.\"\"\"\n",
    "\n",
    "    # The difference of means of data_1, data_2: diff\n",
    "    diff = np.mean(data_1) - np.mean(data_2)\n",
    "\n",
    "    return diff\n",
    "\n",
    "def permutation_sample(data1, data2):\n",
    "    \"\"\"Generate a permutation sample from two data sets.\"\"\"\n",
    "\n",
    "    # Concatenate the data sets: data\n",
    "    data = np.concatenate((data1,data2))\n",
    "\n",
    "    # Permute the concatenated array: permuted_data\n",
    "    permuted_data = np.random.permutation(data)\n",
    "\n",
    "    # Split the permuted array into two: perm_sample_1, perm_sample_2\n",
    "    perm_sample_1 = permuted_data[:len(data1)]\n",
    "    perm_sample_2 = permuted_data[len(data1):]\n",
    "\n",
    "    return perm_sample_1, perm_sample_2\n",
    "\n",
    "def draw_perm_reps(data_1, data_2, func, size=1):\n",
    "    \"\"\"Generate multiple permutation replicates.\"\"\"\n",
    "\n",
    "    # Initialize array of replicates: perm_replicates\n",
    "    perm_replicates = np.empty(size)\n",
    "\n",
    "    for i in range(size):\n",
    "        # Generate permutation sample\n",
    "        perm_sample_1, perm_sample_2 = permutation_sample(data_1,data_2)\n",
    "\n",
    "        # Compute the test statistic\n",
    "        perm_replicates[i] = func(perm_sample_1,perm_sample_2)\n",
    "\n",
    "    return perm_replicates\n",
    "\n"
   ]
  },
  {
   "cell_type": "code",
   "execution_count": 15,
   "metadata": {},
   "outputs": [
    {
     "name": "stdout",
     "output_type": "stream",
     "text": [
      "-1237.36\n",
      "[-938.37570909  327.12973636]\n",
      "p-value = 1.0\n"
     ]
    }
   ],
   "source": [
    "# run significance test for mean park usage per year and park size\n",
    "smallParks = parksInfo.loc[parksInfo.ACRES<1]['tweet_count']\n",
    "largeParks= parksInfo.loc[parksInfo.ACRES>10]['tweet_count']\n",
    "\n",
    "# null = park size has no impact on tweets\n",
    "# alt = larger parks have more tweets\n",
    "\n",
    "# Compute difference of means from sample: empirical_diff_means\n",
    "sample_diff_means = diff_of_means(smallParks,largeParks)\n",
    "print(sample_diff_means)\n",
    "\n",
    "# Acquire permutation samples\n",
    "perm_replicates = draw_perm_reps(smallParks, largeParks, diff_of_means, 1000)\n",
    "print(np.percentile(perm_replicates, [0.5,99.5]))\n",
    "\n",
    "# Compute and print p-value: p\n",
    "p = np.sum(perm_replicates >= sample_diff_means) / float(len(perm_replicates))\n",
    "print('p-value = '+str(p))"
   ]
  },
  {
   "cell_type": "code",
   "execution_count": 16,
   "metadata": {},
   "outputs": [
    {
     "name": "stdout",
     "output_type": "stream",
     "text": [
      "165.98255814\n",
      "[-1210.96947674   966.0840298 ]\n",
      "p-value = 0.504\n"
     ]
    }
   ],
   "source": [
    "# run significance test for mean park usage per year and total # of park amenities\n",
    "\n",
    "fewAmenities = parksInfo.loc[parksInfo.total_amenities<1]['tweet_count']\n",
    "manyAmenities= parksInfo.loc[parksInfo.total_amenities>5]['tweet_count']\n",
    "\n",
    "# null = available amenities does not impact the # of tweets\n",
    "# alt = parks with more amenities have more tweets\n",
    "\n",
    "sample_diff_means = diff_of_means(fewAmenities,manyAmenities)\n",
    "print(sample_diff_means)\n",
    "\n",
    "# Acquire permutation samples\n",
    "perm_replicates = draw_perm_reps(fewAmenities, manyAmenities, diff_of_means, 1000)\n",
    "print(np.percentile(perm_replicates, [0.5,99.5]))\n",
    "\n",
    "# Compute and print p-value: p\n",
    "p = np.sum(perm_replicates <= sample_diff_means) / float(len(perm_replicates))\n",
    "print('p-value = {}'.format(p))"
   ]
  },
  {
   "cell_type": "code",
   "execution_count": 17,
   "metadata": {},
   "outputs": [
    {
     "name": "stdout",
     "output_type": "stream",
     "text": [
      "-1248.21\n",
      "[-1500.32153333  1419.36878333]\n",
      "p-value = 0.907\n"
     ]
    }
   ],
   "source": [
    "# run significance test for mean park usage per year and total # of park amenities\n",
    "\n",
    "scarce_pop = parksInfo.loc[parksInfo.SUM_TOTPOPSVCA<11000]['tweet_count']\n",
    "dense_pop= parksInfo.loc[parksInfo.SUM_TOTPOPSVCA>37000]['tweet_count']\n",
    "\n",
    "# null = # of people within a 10MW does not have an impact on the # of tweets\n",
    "# alt = parks with more people living near them will have more tweets\n",
    "\n",
    "sample_diff_means = diff_of_means(scarce_pop,dense_pop)\n",
    "print(sample_diff_means)\n",
    "\n",
    "# Acquire permutation samples\n",
    "perm_replicates = draw_perm_reps(scarce_pop, dense_pop, diff_of_means, 1000)\n",
    "print(np.percentile(perm_replicates, [0.5,99.5]))\n",
    "\n",
    "# Compute and print p-value: p\n",
    "p = np.sum(perm_replicates >= sample_diff_means) / float(len(perm_replicates))\n",
    "print('p-value = {}'.format(p))"
   ]
  },
  {
   "cell_type": "markdown",
   "metadata": {},
   "source": [
    "**Not seeing any signficant correlations or p-values between these 3 \"predictor\" variables. **\n",
    "\n",
    "# Am I doing anything wrong here....?"
   ]
  },
  {
   "cell_type": "code",
   "execution_count": null,
   "metadata": {},
   "outputs": [],
   "source": []
  }
 ],
 "metadata": {
  "kernelspec": {
   "display_name": "Python 2",
   "language": "python",
   "name": "python2"
  }
 },
 "nbformat": 4,
 "nbformat_minor": 2
}
