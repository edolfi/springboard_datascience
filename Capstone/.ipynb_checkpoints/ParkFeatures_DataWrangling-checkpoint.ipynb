{
 "cells": [
  {
   "cell_type": "markdown",
   "metadata": {},
   "source": [
    "Sources: NYC Open Data, The Trust for Public Land"
   ]
  },
  {
   "cell_type": "code",
   "execution_count": 113,
   "metadata": {},
   "outputs": [],
   "source": [
    "import pandas as pd, os\n",
    "\n",
    "os.chdir(r'Y:/Springboard')"
   ]
  },
  {
   "cell_type": "code",
   "execution_count": 114,
   "metadata": {
    "collapsed": true
   },
   "outputs": [],
   "source": [
    "parks_df = pd.read_excel('NYC_ParkBoundaries.xls', index_col = 'FID')\n"
   ]
  },
  {
   "cell_type": "code",
   "execution_count": 115,
   "metadata": {},
   "outputs": [
    {
     "name": "stdout",
     "output_type": "stream",
     "text": [
      "<class 'pandas.core.frame.DataFrame'>\n",
      "Int64Index: 2253 entries, 434 to 2357\n",
      "Data columns (total 5 columns):\n",
      "GISPROPNUM    2253 non-null object\n",
      "BOROUGH       2253 non-null object\n",
      "ACRES         2253 non-null float64\n",
      "SIGNNAME      2253 non-null object\n",
      "TYPECATEGO    2253 non-null object\n",
      "dtypes: float64(1), object(4)\n",
      "memory usage: 70.4+ KB\n"
     ]
    }
   ],
   "source": [
    "parks_df = parks_df[['GISPROPNUM','BOROUGH','ACRES','SIGNNAME','TYPECATEGO']]\n",
    "parks_df.info()"
   ]
  },
  {
   "cell_type": "code",
   "execution_count": 116,
   "metadata": {
    "scrolled": true
   },
   "outputs": [
    {
     "data": {
      "text/html": [
       "<div>\n",
       "<table border=\"1\" class=\"dataframe\">\n",
       "  <thead>\n",
       "    <tr style=\"text-align: right;\">\n",
       "      <th></th>\n",
       "      <th>handball</th>\n",
       "      <th>lacrosse</th>\n",
       "      <th>shape_star</th>\n",
       "      <th>borough</th>\n",
       "      <th>gispropnum</th>\n",
       "      <th>objectid</th>\n",
       "      <th>descriptio</th>\n",
       "      <th>field_numb</th>\n",
       "      <th>regulation</th>\n",
       "      <th>adult_foot</th>\n",
       "      <th>...</th>\n",
       "      <th>netball</th>\n",
       "      <th>precinct</th>\n",
       "      <th>zipcode</th>\n",
       "      <th>flagfootba</th>\n",
       "      <th>volleyball</th>\n",
       "      <th>name</th>\n",
       "      <th>kickball</th>\n",
       "      <th>t_ball</th>\n",
       "      <th>accessible</th>\n",
       "      <th>dimensions</th>\n",
       "    </tr>\n",
       "    <tr>\n",
       "      <th>FID</th>\n",
       "      <th></th>\n",
       "      <th></th>\n",
       "      <th></th>\n",
       "      <th></th>\n",
       "      <th></th>\n",
       "      <th></th>\n",
       "      <th></th>\n",
       "      <th></th>\n",
       "      <th></th>\n",
       "      <th></th>\n",
       "      <th></th>\n",
       "      <th></th>\n",
       "      <th></th>\n",
       "      <th></th>\n",
       "      <th></th>\n",
       "      <th></th>\n",
       "      <th></th>\n",
       "      <th></th>\n",
       "      <th></th>\n",
       "      <th></th>\n",
       "      <th></th>\n",
       "    </tr>\n",
       "  </thead>\n",
       "  <tbody>\n",
       "    <tr>\n",
       "      <th>2540</th>\n",
       "      <td>Yes</td>\n",
       "      <td>No</td>\n",
       "      <td>1139.039261</td>\n",
       "      <td>B</td>\n",
       "      <td>B001</td>\n",
       "      <td>15825</td>\n",
       "      <td>NaN</td>\n",
       "      <td>02</td>\n",
       "      <td>No</td>\n",
       "      <td>No</td>\n",
       "      <td>...</td>\n",
       "      <td>No</td>\n",
       "      <td>94</td>\n",
       "      <td>11222</td>\n",
       "      <td>No</td>\n",
       "      <td>No</td>\n",
       "      <td>NaN</td>\n",
       "      <td>No</td>\n",
       "      <td>No</td>\n",
       "      <td>No</td>\n",
       "      <td>Handball</td>\n",
       "    </tr>\n",
       "    <tr>\n",
       "      <th>3481</th>\n",
       "      <td>Yes</td>\n",
       "      <td>No</td>\n",
       "      <td>1114.147202</td>\n",
       "      <td>B</td>\n",
       "      <td>B001</td>\n",
       "      <td>16773</td>\n",
       "      <td>NaN</td>\n",
       "      <td>01</td>\n",
       "      <td>No</td>\n",
       "      <td>No</td>\n",
       "      <td>...</td>\n",
       "      <td>No</td>\n",
       "      <td>94</td>\n",
       "      <td>11222</td>\n",
       "      <td>No</td>\n",
       "      <td>No</td>\n",
       "      <td>NaN</td>\n",
       "      <td>No</td>\n",
       "      <td>No</td>\n",
       "      <td>No</td>\n",
       "      <td>Handball</td>\n",
       "    </tr>\n",
       "    <tr>\n",
       "      <th>4898</th>\n",
       "      <td>No</td>\n",
       "      <td>No</td>\n",
       "      <td>4047.910461</td>\n",
       "      <td>B</td>\n",
       "      <td>B001</td>\n",
       "      <td>18273</td>\n",
       "      <td>NaN</td>\n",
       "      <td>01</td>\n",
       "      <td>No</td>\n",
       "      <td>No</td>\n",
       "      <td>...</td>\n",
       "      <td>No</td>\n",
       "      <td>94</td>\n",
       "      <td>11222</td>\n",
       "      <td>No</td>\n",
       "      <td>No</td>\n",
       "      <td>NaN</td>\n",
       "      <td>No</td>\n",
       "      <td>No</td>\n",
       "      <td>No</td>\n",
       "      <td>Full Court</td>\n",
       "    </tr>\n",
       "    <tr>\n",
       "      <th>4899</th>\n",
       "      <td>No</td>\n",
       "      <td>No</td>\n",
       "      <td>4064.570068</td>\n",
       "      <td>B</td>\n",
       "      <td>B001</td>\n",
       "      <td>18274</td>\n",
       "      <td>NaN</td>\n",
       "      <td>02</td>\n",
       "      <td>No</td>\n",
       "      <td>No</td>\n",
       "      <td>...</td>\n",
       "      <td>No</td>\n",
       "      <td>94</td>\n",
       "      <td>11222</td>\n",
       "      <td>No</td>\n",
       "      <td>No</td>\n",
       "      <td>NaN</td>\n",
       "      <td>No</td>\n",
       "      <td>No</td>\n",
       "      <td>No</td>\n",
       "      <td>Full Court</td>\n",
       "    </tr>\n",
       "    <tr>\n",
       "      <th>1997</th>\n",
       "      <td>No</td>\n",
       "      <td>No</td>\n",
       "      <td>29600.016251</td>\n",
       "      <td>B</td>\n",
       "      <td>B007</td>\n",
       "      <td>15278</td>\n",
       "      <td>NaN</td>\n",
       "      <td>03</td>\n",
       "      <td>No</td>\n",
       "      <td>No</td>\n",
       "      <td>...</td>\n",
       "      <td>No</td>\n",
       "      <td>62</td>\n",
       "      <td>11214</td>\n",
       "      <td>No</td>\n",
       "      <td>No</td>\n",
       "      <td>NaN</td>\n",
       "      <td>Yes</td>\n",
       "      <td>Yes</td>\n",
       "      <td>No</td>\n",
       "      <td>60ft base path, 150-200ft fence</td>\n",
       "    </tr>\n",
       "  </tbody>\n",
       "</table>\n",
       "<p>5 rows × 44 columns</p>\n",
       "</div>"
      ],
      "text/plain": [
       "     handball lacrosse    shape_star borough gispropnum  objectid descriptio  \\\n",
       "FID                                                                            \n",
       "2540      Yes       No   1139.039261       B       B001     15825        NaN   \n",
       "3481      Yes       No   1114.147202       B       B001     16773        NaN   \n",
       "4898       No       No   4047.910461       B       B001     18273        NaN   \n",
       "4899       No       No   4064.570068       B       B001     18274        NaN   \n",
       "1997       No       No  29600.016251       B       B007     15278        NaN   \n",
       "\n",
       "     field_numb regulation adult_foot               ...                 \\\n",
       "FID                                                 ...                  \n",
       "2540         02         No         No               ...                  \n",
       "3481         01         No         No               ...                  \n",
       "4898         01         No         No               ...                  \n",
       "4899         02         No         No               ...                  \n",
       "1997         03         No         No               ...                  \n",
       "\n",
       "     netball precinct zipcode flagfootba volleyball name kickball t_ball  \\\n",
       "FID                                                                        \n",
       "2540      No       94   11222         No         No  NaN       No     No   \n",
       "3481      No       94   11222         No         No  NaN       No     No   \n",
       "4898      No       94   11222         No         No  NaN       No     No   \n",
       "4899      No       94   11222         No         No  NaN       No     No   \n",
       "1997      No       62   11214         No         No  NaN      Yes    Yes   \n",
       "\n",
       "     accessible                       dimensions  \n",
       "FID                                               \n",
       "2540         No                         Handball  \n",
       "3481         No                         Handball  \n",
       "4898         No                       Full Court  \n",
       "4899         No                       Full Court  \n",
       "1997         No  60ft base path, 150-200ft fence  \n",
       "\n",
       "[5 rows x 44 columns]"
      ]
     },
     "execution_count": 116,
     "metadata": {},
     "output_type": "execute_result"
    }
   ],
   "source": [
    "athletics_df = pd.read_excel('NYC_AthleticFacilities.xls', index_col = 'FID')\n",
    "athletics_df.head()"
   ]
  },
  {
   "cell_type": "code",
   "execution_count": 117,
   "metadata": {},
   "outputs": [
    {
     "data": {
      "text/html": [
       "<div>\n",
       "<table border=\"1\" class=\"dataframe\">\n",
       "  <thead>\n",
       "    <tr style=\"text-align: right;\">\n",
       "      <th></th>\n",
       "      <th>handball</th>\n",
       "      <th>tennis</th>\n",
       "      <th>basketball</th>\n",
       "      <th>adult_soft</th>\n",
       "      <th>track_and</th>\n",
       "    </tr>\n",
       "    <tr>\n",
       "      <th>gispropnum</th>\n",
       "      <th></th>\n",
       "      <th></th>\n",
       "      <th></th>\n",
       "      <th></th>\n",
       "      <th></th>\n",
       "    </tr>\n",
       "  </thead>\n",
       "  <tbody>\n",
       "    <tr>\n",
       "      <th>B001</th>\n",
       "      <td>2</td>\n",
       "      <td>0</td>\n",
       "      <td>2</td>\n",
       "      <td>0</td>\n",
       "      <td>0</td>\n",
       "    </tr>\n",
       "    <tr>\n",
       "      <th>B007</th>\n",
       "      <td>6</td>\n",
       "      <td>8</td>\n",
       "      <td>4</td>\n",
       "      <td>3</td>\n",
       "      <td>0</td>\n",
       "    </tr>\n",
       "    <tr>\n",
       "      <th>B008</th>\n",
       "      <td>12</td>\n",
       "      <td>0</td>\n",
       "      <td>6</td>\n",
       "      <td>2</td>\n",
       "      <td>0</td>\n",
       "    </tr>\n",
       "    <tr>\n",
       "      <th>B012</th>\n",
       "      <td>1</td>\n",
       "      <td>0</td>\n",
       "      <td>2</td>\n",
       "      <td>0</td>\n",
       "      <td>0</td>\n",
       "    </tr>\n",
       "    <tr>\n",
       "      <th>B016</th>\n",
       "      <td>4</td>\n",
       "      <td>0</td>\n",
       "      <td>3</td>\n",
       "      <td>0</td>\n",
       "      <td>0</td>\n",
       "    </tr>\n",
       "  </tbody>\n",
       "</table>\n",
       "</div>"
      ],
      "text/plain": [
       "            handball  tennis  basketball  adult_soft  track_and\n",
       "gispropnum                                                     \n",
       "B001               2       0           2           0          0\n",
       "B007               6       8           4           3          0\n",
       "B008              12       0           6           2          0\n",
       "B012               1       0           2           0          0\n",
       "B016               4       0           3           0          0"
      ]
     },
     "execution_count": 117,
     "metadata": {},
     "output_type": "execute_result"
    }
   ],
   "source": [
    "# group by park ID and get the count of amenities of interest\n",
    "athletics_count_df = athletics_df.groupby('gispropnum')[['handball','tennis','basketball','adult_soft', 'track_and']].apply(lambda x: x[x=='Yes'].count())\n",
    "athletics_count_df.head()"
   ]
  },
  {
   "cell_type": "code",
   "execution_count": 118,
   "metadata": {},
   "outputs": [
    {
     "data": {
      "text/plain": [
       "gispropnum\n",
       "B001    5\n",
       "B007    7\n",
       "B008    8\n",
       "B012    5\n",
       "B016    5\n",
       "Name: park_name, dtype: int64"
      ]
     },
     "execution_count": 118,
     "metadata": {},
     "output_type": "execute_result"
    }
   ],
   "source": [
    "# get count of play areas per park ID\n",
    "play_df = pd.read_excel('NYC_PlayAreas.xls', index_col = 'FID')\n",
    "play_count_df = play_df.groupby('gispropnum')['park_name'].count()\n",
    "play_count_df.head()"
   ]
  },
  {
   "cell_type": "code",
   "execution_count": 119,
   "metadata": {},
   "outputs": [
    {
     "name": "stdout",
     "output_type": "stream",
     "text": [
      "<class 'pandas.core.frame.DataFrame'>\n",
      "Int64Index: 201 entries, 0 to 200\n",
      "Data columns (total 23 columns):\n",
      "fww           158 non-null object\n",
      "parkname      201 non-null object\n",
      "sp_reg_des    158 non-null object\n",
      "avian         158 non-null object\n",
      "shape_star    201 non-null float64\n",
      "aquatic       158 non-null object\n",
      "fs_rte        158 non-null object\n",
      "forest        158 non-null object\n",
      "mammal        158 non-null object\n",
      "fish          158 non-null object\n",
      "label         201 non-null object\n",
      "shape_stle    201 non-null float64\n",
      "l_rte         158 non-null object\n",
      "grass_shru    158 non-null object\n",
      "herpetile     158 non-null object\n",
      "insect        158 non-null object\n",
      "objectid      201 non-null int64\n",
      "fw_sub_typ    201 non-null int64\n",
      "status        150 non-null object\n",
      "salt_marsh    158 non-null object\n",
      "park_id       201 non-null object\n",
      "acres         201 non-null float64\n",
      "invertebra    158 non-null object\n",
      "dtypes: float64(3), int64(2), object(18)\n",
      "memory usage: 23.6+ KB\n"
     ]
    },
    {
     "data": {
      "text/plain": [
       "park_id\n",
       "B018    2\n",
       "B057    1\n",
       "B073    7\n",
       "B125    1\n",
       "B384    1\n",
       "Name: parkname, dtype: int64"
      ]
     },
     "execution_count": 119,
     "metadata": {},
     "output_type": "execute_result"
    }
   ],
   "source": [
    "# get count of preserves per park ID\n",
    "preserve_df = pd.read_excel('NYC_Preserves.xls', index_col = 'FID')\n",
    "preserve_df.info()\n",
    "preserve_count_df = preserve_df.groupby('park_id')['parkname'].count()\n",
    "preserve_count_df.rename = 'gispropnum'\n",
    "preserve_count_df.head()"
   ]
  },
  {
   "cell_type": "code",
   "execution_count": 120,
   "metadata": {},
   "outputs": [
    {
     "data": {
      "text/plain": [
       "gispropnum\n",
       "B001    1\n",
       "B007    1\n",
       "B012    1\n",
       "B016    1\n",
       "B017    1\n",
       "Name: name, dtype: int64"
      ]
     },
     "execution_count": 120,
     "metadata": {},
     "output_type": "execute_result"
    }
   ],
   "source": [
    "# get count of spray showers per park ID\n",
    "spray_df = pd.read_excel('NYC_SprayShowers.xls', index_col = 'FID')\n",
    "spray_df.head()\n",
    "spray_count_df = spray_df.groupby('gispropnum')['name'].count()\n",
    "spray_count_df.head()"
   ]
  },
  {
   "cell_type": "code",
   "execution_count": 121,
   "metadata": {},
   "outputs": [],
   "source": [
    "# merge dataframes/series of count data with master parks df\n",
    "df_list = [parks_df,athletics_count_df]\n",
    "parks_features_df = pd.merge(parks_df,athletics_count_df, left_on='GISPROPNUM', right_index=True, how='left')"
   ]
  },
  {
   "cell_type": "code",
   "execution_count": 122,
   "metadata": {},
   "outputs": [],
   "source": [
    "parks_features_df = parks_features_df.merge(play_count_df.to_frame(), left_on='GISPROPNUM', right_index=True, how='left')\n",
    "parks_features_df = parks_features_df.merge(preserve_count_df.to_frame(), left_on='GISPROPNUM', right_index=True, how='left')\n",
    "parks_features_df = parks_features_df.merge(spray_count_df.to_frame(), left_on='GISPROPNUM', right_index=True, how='left')"
   ]
  },
  {
   "cell_type": "code",
   "execution_count": 123,
   "metadata": {},
   "outputs": [
    {
     "name": "stdout",
     "output_type": "stream",
     "text": [
      "<class 'pandas.core.frame.DataFrame'>\n",
      "Int64Index: 2253 entries, 434 to 2357\n",
      "Data columns (total 13 columns):\n",
      "GISPROPNUM         2253 non-null object\n",
      "BOROUGH            2253 non-null object\n",
      "ACRES              2253 non-null float64\n",
      "SIGNNAME           2253 non-null object\n",
      "TYPECATEGO         2253 non-null object\n",
      "handball           769 non-null float64\n",
      "tennis             769 non-null float64\n",
      "basketball         769 non-null float64\n",
      "adult_soft         769 non-null float64\n",
      "track_and          769 non-null float64\n",
      "play_area_count    902 non-null float64\n",
      "preserve_count     82 non-null float64\n",
      "spray_count        478 non-null float64\n",
      "dtypes: float64(9), object(4)\n",
      "memory usage: 211.2+ KB\n"
     ]
    }
   ],
   "source": [
    "parks_features_df.rename(columns = {'park_name':'play_area_count','parkname' : 'preserve_count', 'name':'spray_count'}, inplace = True)\n",
    "parks_features_df.info()"
   ]
  },
  {
   "cell_type": "code",
   "execution_count": 124,
   "metadata": {
    "collapsed": true
   },
   "outputs": [],
   "source": [
    "# read in 10MW population data\n",
    "tenmin_df = pd.read_excel('NYC_Park10MW_Statistics.xls')"
   ]
  },
  {
   "cell_type": "code",
   "execution_count": 125,
   "metadata": {
    "collapsed": true
   },
   "outputs": [],
   "source": [
    "parks_features_df = parks_features_df.merge(tenmin_df, left_on = 'SIGNNAME', right_on = 'TPL_P_NAME')"
   ]
  },
  {
   "cell_type": "code",
   "execution_count": 126,
   "metadata": {},
   "outputs": [
    {
     "name": "stdout",
     "output_type": "stream",
     "text": [
      "<class 'pandas.core.frame.DataFrame'>\n",
      "Int64Index: 1705 entries, 0 to 1704\n",
      "Data columns (total 33 columns):\n",
      "GISPROPNUM          1705 non-null object\n",
      "BOROUGH             1705 non-null object\n",
      "ACRES               1705 non-null float64\n",
      "SIGNNAME            1705 non-null object\n",
      "TYPECATEGO          1705 non-null object\n",
      "handball            1705 non-null float64\n",
      "tennis              1705 non-null float64\n",
      "basketball          1705 non-null float64\n",
      "adult_soft          1705 non-null float64\n",
      "track_and           1705 non-null float64\n",
      "play_area_count     1705 non-null float64\n",
      "preserve_count      1705 non-null float64\n",
      "spray_count         1705 non-null float64\n",
      "OBJECTID            1705 non-null int64\n",
      "TPL_P_NAME          1705 non-null object\n",
      "FREQUENCY           1705 non-null int64\n",
      "SUM_SVCAREA         1705 non-null float64\n",
      "SUM_TOTPOPSVCA      1705 non-null int64\n",
      "SUM_KIDSVCA         1705 non-null int64\n",
      "SUM_YOUNGPROSVCA    1705 non-null int64\n",
      "SUM_SENIORSVCA      1705 non-null int64\n",
      "SUM_HHILOWSVCA      1705 non-null int64\n",
      "SUM_HHIMEDSVCA      1705 non-null int64\n",
      "SUM_HHIHIGHSVCA     1705 non-null int64\n",
      "SUM_TOTHHSVCA       1705 non-null int64\n",
      "SUM_WHITE_SVC       1705 non-null int64\n",
      "SUM_BLACK_SVC       1705 non-null int64\n",
      "SUM_AMERINDSVC      1705 non-null int64\n",
      "SUM_ASIAN_SVC       1705 non-null int64\n",
      "SUM_PACIFICSVC      1705 non-null int64\n",
      "SUM_OTHRACESVC      1705 non-null int64\n",
      "SUM_RACE2UPSVC      1705 non-null int64\n",
      "SUM_HISP_SVC        1705 non-null int64\n",
      "dtypes: float64(10), int64(18), object(5)\n",
      "memory usage: 419.6+ KB\n"
     ]
    }
   ],
   "source": [
    "parks_features_df = parks_features_df.fillna(0)\n",
    "parks_features_df.info()"
   ]
  },
  {
   "cell_type": "code",
   "execution_count": null,
   "metadata": {},
   "outputs": [],
   "source": []
  },
  {
   "cell_type": "code",
   "execution_count": null,
   "metadata": {
    "collapsed": true
   },
   "outputs": [],
   "source": []
  }
 ],
 "metadata": {
  "kernelspec": {
   "display_name": "Python 2",
   "language": "python",
   "name": "python2"
  },
  "language_info": {
   "codemirror_mode": {
    "name": "ipython",
    "version": 2
   },
   "file_extension": ".py",
   "mimetype": "text/x-python",
   "name": "python",
   "nbconvert_exporter": "python",
   "pygments_lexer": "ipython2",
   "version": "2.7.14"
  }
 },
 "nbformat": 4,
 "nbformat_minor": 1
}
