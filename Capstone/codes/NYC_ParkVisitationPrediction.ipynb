{
 "cells": [
  {
   "cell_type": "code",
   "execution_count": 1,
   "metadata": {},
   "outputs": [],
   "source": [
    "import pandas as pd\n",
    "import numpy as np\n",
    "import matplotlib.pyplot as plt\n",
    "import seaborn as sns\n",
    "import os\n",
    "\n",
    "os.chdir(r'C:\\Users\\emmalee.dolfi\\Desktop\\springboard_datascience-master\\Capstone\\data')"
   ]
  },
  {
   "cell_type": "code",
   "execution_count": 2,
   "metadata": {},
   "outputs": [
    {
     "name": "stdout",
     "output_type": "stream",
     "text": [
      "<class 'pandas.core.frame.DataFrame'>\n",
      "Int64Index: 98 entries, 0 to 97\n",
      "Data columns (total 50 columns):\n",
      "ACRES                                     98 non-null float64\n",
      "handball                                  98 non-null int64\n",
      "tennis                                    98 non-null int64\n",
      "basketball                                98 non-null int64\n",
      "adult_soft                                98 non-null int64\n",
      "track_and                                 98 non-null int64\n",
      "play_area_count                           98 non-null int64\n",
      "preserve_count                            98 non-null int64\n",
      "spray_count                               98 non-null int64\n",
      "SUM_TOTPOPSVCA                            98 non-null int64\n",
      "SUM_KIDSVCA                               98 non-null int64\n",
      "SUM_YOUNGPROSVCA                          98 non-null int64\n",
      "SUM_SENIORSVCA                            98 non-null int64\n",
      "SUM_HHILOWSVCA                            98 non-null int64\n",
      "SUM_HHIMEDSVCA                            98 non-null int64\n",
      "SUM_HHIHIGHSVCA                           98 non-null int64\n",
      "SUM_TOTHHSVCA                             98 non-null int64\n",
      "SUM_WHITE_SVC                             98 non-null int64\n",
      "SUM_BLACK_SVC                             98 non-null int64\n",
      "SUM_AMERINDSVC                            98 non-null int64\n",
      "SUM_ASIAN_SVC                             98 non-null int64\n",
      "SUM_PACIFICSVC                            98 non-null int64\n",
      "SUM_OTHRACESVC                            98 non-null int64\n",
      "SUM_RACE2UPSVC                            98 non-null int64\n",
      "SUM_HISP_SVC                              98 non-null int64\n",
      "total_amenities                           98 non-null int64\n",
      "tweet_count                               98 non-null int64\n",
      "BOROUGH_B                                 98 non-null uint8\n",
      "BOROUGH_M                                 98 non-null uint8\n",
      "BOROUGH_Q                                 98 non-null uint8\n",
      "BOROUGH_R                                 98 non-null uint8\n",
      "BOROUGH_X                                 98 non-null uint8\n",
      "TYPECATEGO_Buildings/Institutions         98 non-null uint8\n",
      "TYPECATEGO_Community Park                 98 non-null uint8\n",
      "TYPECATEGO_Flagship Park                  98 non-null uint8\n",
      "TYPECATEGO_Garden                         98 non-null uint8\n",
      "TYPECATEGO_Historic House Park            98 non-null uint8\n",
      "TYPECATEGO_Jointly Operated Playground    98 non-null uint8\n",
      "TYPECATEGO_Nature Area                    98 non-null uint8\n",
      "TYPECATEGO_Neighborhood Park              98 non-null uint8\n",
      "TYPECATEGO_Parkway                        98 non-null uint8\n",
      "TYPECATEGO_Playground                     98 non-null uint8\n",
      "TYPECATEGO_Recreation Field/Courts        98 non-null uint8\n",
      "TYPECATEGO_Restrictive Declaration        98 non-null uint8\n",
      "TYPECATEGO_Schoolyard-Playground          98 non-null uint8\n",
      "TYPECATEGO_Schoolyards to Playgrounds     98 non-null uint8\n",
      "TYPECATEGO_Tracking                       98 non-null uint8\n",
      "TYPECATEGO_Triangle/Plaza                 98 non-null uint8\n",
      "TYPECATEGO_Undeveloped                    98 non-null uint8\n",
      "TYPECATEGO_Waterfront Facility            98 non-null uint8\n",
      "dtypes: float64(1), int64(26), uint8(23)\n",
      "memory usage: 23.6 KB\n"
     ]
    }
   ],
   "source": [
    "parksInfo = pd.read_excel('NYC_parksInfo_all.xlsx', index_col = 'index')\n",
    "#parksInfo.head()\n",
    "\n",
    "parksInfo_dummied = pd.get_dummies(parksInfo.drop(['GISPROPNUM','TPL_P_NAME','SIGNNAME', 'OBJECTID','FREQUENCY', 'SUM_SVCAREA'], axis=1))\n",
    "parksInfo_dummied.info()"
   ]
  },
  {
   "cell_type": "code",
   "execution_count": 4,
   "metadata": {},
   "outputs": [
    {
     "data": {
      "text/html": [
       "<div>\n",
       "<style scoped>\n",
       "    .dataframe tbody tr th:only-of-type {\n",
       "        vertical-align: middle;\n",
       "    }\n",
       "\n",
       "    .dataframe tbody tr th {\n",
       "        vertical-align: top;\n",
       "    }\n",
       "\n",
       "    .dataframe thead th {\n",
       "        text-align: right;\n",
       "    }\n",
       "</style>\n",
       "<table border=\"1\" class=\"dataframe\">\n",
       "  <thead>\n",
       "    <tr style=\"text-align: right;\">\n",
       "      <th></th>\n",
       "      <th>ACRES</th>\n",
       "      <th>handball</th>\n",
       "      <th>tennis</th>\n",
       "      <th>basketball</th>\n",
       "      <th>adult_soft</th>\n",
       "      <th>track_and</th>\n",
       "      <th>play_area_count</th>\n",
       "      <th>preserve_count</th>\n",
       "      <th>spray_count</th>\n",
       "      <th>SUM_TOTPOPSVCA</th>\n",
       "      <th>...</th>\n",
       "      <th>TYPECATEGO_Playground</th>\n",
       "      <th>TYPECATEGO_Recreation Field/Courts</th>\n",
       "      <th>TYPECATEGO_Restrictive Declaration</th>\n",
       "      <th>TYPECATEGO_Schoolyard-Playground</th>\n",
       "      <th>TYPECATEGO_Schoolyards to Playgrounds</th>\n",
       "      <th>TYPECATEGO_Tracking</th>\n",
       "      <th>TYPECATEGO_Triangle/Plaza</th>\n",
       "      <th>TYPECATEGO_Undeveloped</th>\n",
       "      <th>TYPECATEGO_Waterfront Facility</th>\n",
       "      <th>tweet_class</th>\n",
       "    </tr>\n",
       "    <tr>\n",
       "      <th>index</th>\n",
       "      <th></th>\n",
       "      <th></th>\n",
       "      <th></th>\n",
       "      <th></th>\n",
       "      <th></th>\n",
       "      <th></th>\n",
       "      <th></th>\n",
       "      <th></th>\n",
       "      <th></th>\n",
       "      <th></th>\n",
       "      <th></th>\n",
       "      <th></th>\n",
       "      <th></th>\n",
       "      <th></th>\n",
       "      <th></th>\n",
       "      <th></th>\n",
       "      <th></th>\n",
       "      <th></th>\n",
       "      <th></th>\n",
       "      <th></th>\n",
       "      <th></th>\n",
       "    </tr>\n",
       "  </thead>\n",
       "  <tbody>\n",
       "    <tr>\n",
       "      <th>0</th>\n",
       "      <td>1.874</td>\n",
       "      <td>0</td>\n",
       "      <td>0</td>\n",
       "      <td>3</td>\n",
       "      <td>1</td>\n",
       "      <td>0</td>\n",
       "      <td>4</td>\n",
       "      <td>0</td>\n",
       "      <td>1</td>\n",
       "      <td>26177</td>\n",
       "      <td>...</td>\n",
       "      <td>0</td>\n",
       "      <td>0</td>\n",
       "      <td>0</td>\n",
       "      <td>0</td>\n",
       "      <td>0</td>\n",
       "      <td>0</td>\n",
       "      <td>0</td>\n",
       "      <td>0</td>\n",
       "      <td>0</td>\n",
       "      <td>2</td>\n",
       "    </tr>\n",
       "    <tr>\n",
       "      <th>1</th>\n",
       "      <td>6.379</td>\n",
       "      <td>4</td>\n",
       "      <td>0</td>\n",
       "      <td>1</td>\n",
       "      <td>0</td>\n",
       "      <td>0</td>\n",
       "      <td>5</td>\n",
       "      <td>0</td>\n",
       "      <td>1</td>\n",
       "      <td>29767</td>\n",
       "      <td>...</td>\n",
       "      <td>0</td>\n",
       "      <td>0</td>\n",
       "      <td>0</td>\n",
       "      <td>0</td>\n",
       "      <td>0</td>\n",
       "      <td>0</td>\n",
       "      <td>0</td>\n",
       "      <td>0</td>\n",
       "      <td>0</td>\n",
       "      <td>1</td>\n",
       "    </tr>\n",
       "    <tr>\n",
       "      <th>2</th>\n",
       "      <td>35.713</td>\n",
       "      <td>12</td>\n",
       "      <td>8</td>\n",
       "      <td>4</td>\n",
       "      <td>4</td>\n",
       "      <td>0</td>\n",
       "      <td>7</td>\n",
       "      <td>0</td>\n",
       "      <td>2</td>\n",
       "      <td>42017</td>\n",
       "      <td>...</td>\n",
       "      <td>0</td>\n",
       "      <td>0</td>\n",
       "      <td>0</td>\n",
       "      <td>0</td>\n",
       "      <td>0</td>\n",
       "      <td>0</td>\n",
       "      <td>0</td>\n",
       "      <td>0</td>\n",
       "      <td>0</td>\n",
       "      <td>2</td>\n",
       "    </tr>\n",
       "    <tr>\n",
       "      <th>3</th>\n",
       "      <td>0.181</td>\n",
       "      <td>0</td>\n",
       "      <td>0</td>\n",
       "      <td>0</td>\n",
       "      <td>0</td>\n",
       "      <td>0</td>\n",
       "      <td>0</td>\n",
       "      <td>0</td>\n",
       "      <td>0</td>\n",
       "      <td>28730</td>\n",
       "      <td>...</td>\n",
       "      <td>0</td>\n",
       "      <td>0</td>\n",
       "      <td>0</td>\n",
       "      <td>0</td>\n",
       "      <td>0</td>\n",
       "      <td>0</td>\n",
       "      <td>0</td>\n",
       "      <td>0</td>\n",
       "      <td>0</td>\n",
       "      <td>1</td>\n",
       "    </tr>\n",
       "    <tr>\n",
       "      <th>4</th>\n",
       "      <td>0.293</td>\n",
       "      <td>0</td>\n",
       "      <td>0</td>\n",
       "      <td>0</td>\n",
       "      <td>0</td>\n",
       "      <td>0</td>\n",
       "      <td>1</td>\n",
       "      <td>0</td>\n",
       "      <td>1</td>\n",
       "      <td>32449</td>\n",
       "      <td>...</td>\n",
       "      <td>1</td>\n",
       "      <td>0</td>\n",
       "      <td>0</td>\n",
       "      <td>0</td>\n",
       "      <td>0</td>\n",
       "      <td>0</td>\n",
       "      <td>0</td>\n",
       "      <td>0</td>\n",
       "      <td>0</td>\n",
       "      <td>0</td>\n",
       "    </tr>\n",
       "  </tbody>\n",
       "</table>\n",
       "<p>5 rows × 51 columns</p>\n",
       "</div>"
      ],
      "text/plain": [
       "        ACRES  handball  tennis  basketball  adult_soft  track_and  \\\n",
       "index                                                                \n",
       "0       1.874         0       0           3           1          0   \n",
       "1       6.379         4       0           1           0          0   \n",
       "2      35.713        12       8           4           4          0   \n",
       "3       0.181         0       0           0           0          0   \n",
       "4       0.293         0       0           0           0          0   \n",
       "\n",
       "       play_area_count  preserve_count  spray_count  SUM_TOTPOPSVCA  \\\n",
       "index                                                                 \n",
       "0                    4               0            1           26177   \n",
       "1                    5               0            1           29767   \n",
       "2                    7               0            2           42017   \n",
       "3                    0               0            0           28730   \n",
       "4                    1               0            1           32449   \n",
       "\n",
       "          ...       TYPECATEGO_Playground  TYPECATEGO_Recreation Field/Courts  \\\n",
       "index     ...                                                                   \n",
       "0         ...                           0                                   0   \n",
       "1         ...                           0                                   0   \n",
       "2         ...                           0                                   0   \n",
       "3         ...                           0                                   0   \n",
       "4         ...                           1                                   0   \n",
       "\n",
       "       TYPECATEGO_Restrictive Declaration  TYPECATEGO_Schoolyard-Playground  \\\n",
       "index                                                                         \n",
       "0                                       0                                 0   \n",
       "1                                       0                                 0   \n",
       "2                                       0                                 0   \n",
       "3                                       0                                 0   \n",
       "4                                       0                                 0   \n",
       "\n",
       "       TYPECATEGO_Schoolyards to Playgrounds  TYPECATEGO_Tracking  \\\n",
       "index                                                               \n",
       "0                                          0                    0   \n",
       "1                                          0                    0   \n",
       "2                                          0                    0   \n",
       "3                                          0                    0   \n",
       "4                                          0                    0   \n",
       "\n",
       "       TYPECATEGO_Triangle/Plaza  TYPECATEGO_Undeveloped  \\\n",
       "index                                                      \n",
       "0                              0                       0   \n",
       "1                              0                       0   \n",
       "2                              0                       0   \n",
       "3                              0                       0   \n",
       "4                              0                       0   \n",
       "\n",
       "       TYPECATEGO_Waterfront Facility  tweet_class  \n",
       "index                                               \n",
       "0                                   0            2  \n",
       "1                                   0            1  \n",
       "2                                   0            2  \n",
       "3                                   0            1  \n",
       "4                                   0            0  \n",
       "\n",
       "[5 rows x 51 columns]"
      ]
     },
     "execution_count": 4,
     "metadata": {},
     "output_type": "execute_result"
    }
   ],
   "source": [
    "parksInfo_dummied.tweet_count.describe()\n",
    "\n",
    "def label_tweets (row):\n",
    "   if row['tweet_count'] <= 50:\n",
    "    return 0\n",
    "   if row['tweet_count'] > 50 and row['tweet_count'] <= 200:\n",
    "    return 1\n",
    "   else:\n",
    "    return 2\n",
    "\n",
    "parksInfo_dummied['tweet_class'] = parksInfo_dummied.apply(lambda row: label_tweets (row),axis=1)\n",
    "parksInfo_dummied.head()"
   ]
  },
  {
   "cell_type": "code",
   "execution_count": 5,
   "metadata": {},
   "outputs": [],
   "source": [
    "parksInfo_sub = parksInfo_dummied[['ACRES','SUM_HHILOWSVCA','handball']]\n",
    "\n",
    "y = np.array(parksInfo.tweet_count)\n",
    "X = parksInfo_sub\n",
    "\n",
    "from sklearn.model_selection import train_test_split\n",
    "\n",
    "train_X, test_X, train_y, test_y = train_test_split(X, y, test_size = 0.2, random_state = 42)"
   ]
  },
  {
   "cell_type": "code",
   "execution_count": 6,
   "metadata": {},
   "outputs": [
    {
     "name": "stdout",
     "output_type": "stream",
     "text": [
      "('Training Features Shape:', (78, 3))\n",
      "('Training Labels Shape:', (78,))\n",
      "('Testing Features Shape:', (20, 3))\n",
      "('Testing Labels Shape:', (20,))\n"
     ]
    }
   ],
   "source": [
    "print('Training Features Shape:', train_X.shape)\n",
    "print('Training Labels Shape:', train_y.shape)\n",
    "print('Testing Features Shape:', test_X.shape)\n",
    "print('Testing Labels Shape:', test_y.shape)"
   ]
  },
  {
   "cell_type": "code",
   "execution_count": 7,
   "metadata": {},
   "outputs": [
    {
     "data": {
      "text/plain": [
       "RandomForestRegressor(bootstrap=True, criterion='mse', max_depth=None,\n",
       "           max_features='auto', max_leaf_nodes=None,\n",
       "           min_impurity_decrease=0.0, min_impurity_split=None,\n",
       "           min_samples_leaf=1, min_samples_split=2,\n",
       "           min_weight_fraction_leaf=0.0, n_estimators=1000, n_jobs=1,\n",
       "           oob_score=False, random_state=None, verbose=0, warm_start=False)"
      ]
     },
     "execution_count": 7,
     "metadata": {},
     "output_type": "execute_result"
    }
   ],
   "source": [
    "# Import the model we are using\n",
    "from sklearn.ensemble import RandomForestRegressor\n",
    "from sklearn.metrics import accuracy_score\n",
    "from sklearn.metrics import confusion_matrix\n",
    "# Instantiate model with 1000 decision trees\n",
    "rf = RandomForestRegressor(n_estimators = 1000)\n",
    "# Train the model on training data\n",
    "rf.fit(train_X, train_y)"
   ]
  },
  {
   "cell_type": "code",
   "execution_count": 8,
   "metadata": {},
   "outputs": [],
   "source": [
    "predict_test = rf.predict(test_X)"
   ]
  },
  {
   "cell_type": "code",
   "execution_count": 9,
   "metadata": {},
   "outputs": [
    {
     "name": "stdout",
     "output_type": "stream",
     "text": [
      "Train Accuracy ::  0.8435007431352982\n",
      "Test Accuracy  ::  0.11441341598166499\n"
     ]
    }
   ],
   "source": [
    "print \"Train Accuracy :: \", rf.score(train_X, train_y)\n",
    "print \"Test Accuracy  :: \", rf.score(test_X, test_y)"
   ]
  },
  {
   "cell_type": "code",
   "execution_count": 10,
   "metadata": {},
   "outputs": [],
   "source": [
    "y = np.array(parksInfo_dummied.tweet_class)\n",
    "X = parksInfo_dummied.drop(['tweet_class','tweet_count'], axis=1)\n",
    "\n",
    "from sklearn.model_selection import train_test_split\n",
    "\n",
    "train_X, test_X, train_y, test_y = train_test_split(X, y, test_size = 0.2, random_state = 42)"
   ]
  },
  {
   "cell_type": "code",
   "execution_count": 11,
   "metadata": {},
   "outputs": [
    {
     "data": {
      "text/plain": [
       "RandomForestClassifier(bootstrap=True, class_weight=None, criterion='gini',\n",
       "            max_depth=None, max_features='auto', max_leaf_nodes=None,\n",
       "            min_impurity_decrease=0.0, min_impurity_split=None,\n",
       "            min_samples_leaf=1, min_samples_split=2,\n",
       "            min_weight_fraction_leaf=0.0, n_estimators=10, n_jobs=1,\n",
       "            oob_score=False, random_state=None, verbose=0,\n",
       "            warm_start=False)"
      ]
     },
     "execution_count": 11,
     "metadata": {},
     "output_type": "execute_result"
    }
   ],
   "source": [
    "# Import the model we are using\n",
    "from sklearn.ensemble import RandomForestClassifier\n",
    "from sklearn.metrics import accuracy_score\n",
    "\n",
    "rf = RandomForestClassifier()\n",
    "# Train the model on training data\n",
    "rf.fit(train_X, train_y)"
   ]
  },
  {
   "cell_type": "code",
   "execution_count": 12,
   "metadata": {},
   "outputs": [],
   "source": [
    "predict_test = rf.predict(test_X)"
   ]
  },
  {
   "cell_type": "code",
   "execution_count": 13,
   "metadata": {},
   "outputs": [
    {
     "name": "stdout",
     "output_type": "stream",
     "text": [
      "Train Accuracy ::  0.9615384615384616\n",
      "Test Accuracy  ::  0.6\n"
     ]
    }
   ],
   "source": [
    "print \"Train Accuracy :: \", accuracy_score(train_y, rf.predict(train_X))\n",
    "print \"Test Accuracy  :: \", accuracy_score(test_y, predict_test)"
   ]
  },
  {
   "cell_type": "code",
   "execution_count": 14,
   "metadata": {},
   "outputs": [
    {
     "data": {
      "text/plain": [
       "{'n_estimators': 19}"
      ]
     },
     "execution_count": 14,
     "metadata": {},
     "output_type": "execute_result"
    }
   ],
   "source": [
    "from sklearn.model_selection import GridSearchCV\n",
    "# Create the parameter grid based on the results of random search \n",
    "param_grid = {'n_estimators': range(1,50)}\n",
    "# Create a based model\n",
    "rf = RandomForestClassifier()\n",
    "# Instantiate the grid search model\n",
    "grid_search = GridSearchCV(estimator = rf, param_grid = param_grid)\n",
    "\n",
    "grid_search.fit(train_X, train_y)\n",
    "grid_search.best_params_"
   ]
  },
  {
   "cell_type": "code",
   "execution_count": 38,
   "metadata": {},
   "outputs": [
    {
     "name": "stdout",
     "output_type": "stream",
     "text": [
      "Train Accuracy ::  0.9871794871794872\n",
      "Test Accuracy  ::  0.6\n"
     ]
    }
   ],
   "source": [
    "rf = RandomForestClassifier(n_estimators=19)\n",
    "# Train the model on training data\n",
    "rf.fit(train_X, train_y)\n",
    "\n",
    "predict_test = rf.predict(test_X)\n",
    "\n",
    "print \"Train Accuracy :: \", accuracy_score(train_y, rf.predict(train_X))\n",
    "print \"Test Accuracy  :: \", accuracy_score(test_y, predict_test)"
   ]
  },
  {
   "cell_type": "code",
   "execution_count": 32,
   "metadata": {},
   "outputs": [
    {
     "data": {
      "text/plain": [
       "{'n_estimators': 5000}"
      ]
     },
     "execution_count": 32,
     "metadata": {},
     "output_type": "execute_result"
    }
   ],
   "source": [
    "from sklearn.model_selection import GridSearchCV\n",
    "# Create the parameter grid based on the results of random search \n",
    "param_grid = {'n_estimators': [100, 200, 300, 1000, 5000]}\n",
    "# Create a based model\n",
    "rf = RandomForestRegressor()\n",
    "# Instantiate the grid search model\n",
    "grid_search = GridSearchCV(estimator = rf, param_grid = param_grid)\n",
    "\n",
    "grid_search.fit(train_X, train_y)\n",
    "grid_search.best_params_"
   ]
  },
  {
   "cell_type": "code",
   "execution_count": 20,
   "metadata": {},
   "outputs": [
    {
     "name": "stdout",
     "output_type": "stream",
     "text": [
      "Train Accuracy ::  0.9035488909426987\n",
      "Test Accuracy  ::  0.27654295532646045\n"
     ]
    }
   ],
   "source": [
    "rf = RandomForestRegressor(n_estimators = 100)\n",
    "# Train the model on training data\n",
    "rf.fit(train_X, train_y)\n",
    "predict_test = rf.predict(test_X)\n",
    "\n",
    "print \"Train Accuracy :: \", rf.score(train_X, train_y)\n",
    "print \"Test Accuracy  :: \", rf.score(test_X, test_y)"
   ]
  },
  {
   "cell_type": "code",
   "execution_count": 85,
   "metadata": {},
   "outputs": [
    {
     "data": {
      "text/plain": [
       "-0.04667604707362538"
      ]
     },
     "execution_count": 85,
     "metadata": {},
     "output_type": "execute_result"
    }
   ],
   "source": [
    "from sklearn import svm\n",
    "\n",
    "clf = svm.SVR()\n",
    "clf.fit(train_X, train_y) \n",
    "\n",
    "clf.predict(test_X)"
   ]
  },
  {
   "cell_type": "code",
   "execution_count": 18,
   "metadata": {},
   "outputs": [
    {
     "data": {
      "text/html": [
       "<div>\n",
       "<style scoped>\n",
       "    .dataframe tbody tr th:only-of-type {\n",
       "        vertical-align: middle;\n",
       "    }\n",
       "\n",
       "    .dataframe tbody tr th {\n",
       "        vertical-align: top;\n",
       "    }\n",
       "\n",
       "    .dataframe thead th {\n",
       "        text-align: right;\n",
       "    }\n",
       "</style>\n",
       "<table border=\"1\" class=\"dataframe\">\n",
       "  <thead>\n",
       "    <tr style=\"text-align: right;\">\n",
       "      <th></th>\n",
       "      <th>ACRES</th>\n",
       "      <th>handball</th>\n",
       "      <th>tennis</th>\n",
       "      <th>basketball</th>\n",
       "      <th>adult_soft</th>\n",
       "      <th>track_and</th>\n",
       "      <th>play_area_count</th>\n",
       "      <th>preserve_count</th>\n",
       "      <th>spray_count</th>\n",
       "      <th>SUM_TOTPOPSVCA</th>\n",
       "      <th>...</th>\n",
       "      <th>SUM_WHITE_SVC</th>\n",
       "      <th>SUM_BLACK_SVC</th>\n",
       "      <th>SUM_AMERINDSVC</th>\n",
       "      <th>SUM_ASIAN_SVC</th>\n",
       "      <th>SUM_PACIFICSVC</th>\n",
       "      <th>SUM_OTHRACESVC</th>\n",
       "      <th>SUM_RACE2UPSVC</th>\n",
       "      <th>SUM_HISP_SVC</th>\n",
       "      <th>tweet_count</th>\n",
       "      <th>tweet_class</th>\n",
       "    </tr>\n",
       "    <tr>\n",
       "      <th>index</th>\n",
       "      <th></th>\n",
       "      <th></th>\n",
       "      <th></th>\n",
       "      <th></th>\n",
       "      <th></th>\n",
       "      <th></th>\n",
       "      <th></th>\n",
       "      <th></th>\n",
       "      <th></th>\n",
       "      <th></th>\n",
       "      <th></th>\n",
       "      <th></th>\n",
       "      <th></th>\n",
       "      <th></th>\n",
       "      <th></th>\n",
       "      <th></th>\n",
       "      <th></th>\n",
       "      <th></th>\n",
       "      <th></th>\n",
       "      <th></th>\n",
       "      <th></th>\n",
       "    </tr>\n",
       "  </thead>\n",
       "  <tbody>\n",
       "    <tr>\n",
       "      <th>0</th>\n",
       "      <td>1.874</td>\n",
       "      <td>0</td>\n",
       "      <td>0</td>\n",
       "      <td>3</td>\n",
       "      <td>1</td>\n",
       "      <td>0</td>\n",
       "      <td>4</td>\n",
       "      <td>0</td>\n",
       "      <td>1</td>\n",
       "      <td>26177</td>\n",
       "      <td>...</td>\n",
       "      <td>21238</td>\n",
       "      <td>1136</td>\n",
       "      <td>51</td>\n",
       "      <td>1769</td>\n",
       "      <td>10</td>\n",
       "      <td>865</td>\n",
       "      <td>1104</td>\n",
       "      <td>3279</td>\n",
       "      <td>872</td>\n",
       "      <td>2</td>\n",
       "    </tr>\n",
       "    <tr>\n",
       "      <th>1</th>\n",
       "      <td>6.379</td>\n",
       "      <td>4</td>\n",
       "      <td>0</td>\n",
       "      <td>1</td>\n",
       "      <td>0</td>\n",
       "      <td>0</td>\n",
       "      <td>5</td>\n",
       "      <td>0</td>\n",
       "      <td>1</td>\n",
       "      <td>29767</td>\n",
       "      <td>...</td>\n",
       "      <td>23922</td>\n",
       "      <td>174</td>\n",
       "      <td>27</td>\n",
       "      <td>4523</td>\n",
       "      <td>11</td>\n",
       "      <td>758</td>\n",
       "      <td>349</td>\n",
       "      <td>1652</td>\n",
       "      <td>59</td>\n",
       "      <td>1</td>\n",
       "    </tr>\n",
       "    <tr>\n",
       "      <th>2</th>\n",
       "      <td>35.713</td>\n",
       "      <td>12</td>\n",
       "      <td>8</td>\n",
       "      <td>4</td>\n",
       "      <td>4</td>\n",
       "      <td>0</td>\n",
       "      <td>7</td>\n",
       "      <td>0</td>\n",
       "      <td>2</td>\n",
       "      <td>42017</td>\n",
       "      <td>...</td>\n",
       "      <td>34676</td>\n",
       "      <td>564</td>\n",
       "      <td>112</td>\n",
       "      <td>3412</td>\n",
       "      <td>20</td>\n",
       "      <td>1926</td>\n",
       "      <td>1320</td>\n",
       "      <td>4974</td>\n",
       "      <td>7554</td>\n",
       "      <td>2</td>\n",
       "    </tr>\n",
       "    <tr>\n",
       "      <th>3</th>\n",
       "      <td>0.181</td>\n",
       "      <td>0</td>\n",
       "      <td>0</td>\n",
       "      <td>0</td>\n",
       "      <td>0</td>\n",
       "      <td>0</td>\n",
       "      <td>0</td>\n",
       "      <td>0</td>\n",
       "      <td>0</td>\n",
       "      <td>28730</td>\n",
       "      <td>...</td>\n",
       "      <td>19543</td>\n",
       "      <td>1013</td>\n",
       "      <td>170</td>\n",
       "      <td>2651</td>\n",
       "      <td>13</td>\n",
       "      <td>4040</td>\n",
       "      <td>1298</td>\n",
       "      <td>8766</td>\n",
       "      <td>81</td>\n",
       "      <td>1</td>\n",
       "    </tr>\n",
       "    <tr>\n",
       "      <th>4</th>\n",
       "      <td>0.293</td>\n",
       "      <td>0</td>\n",
       "      <td>0</td>\n",
       "      <td>0</td>\n",
       "      <td>0</td>\n",
       "      <td>0</td>\n",
       "      <td>1</td>\n",
       "      <td>0</td>\n",
       "      <td>1</td>\n",
       "      <td>32449</td>\n",
       "      <td>...</td>\n",
       "      <td>6323</td>\n",
       "      <td>22999</td>\n",
       "      <td>125</td>\n",
       "      <td>548</td>\n",
       "      <td>10</td>\n",
       "      <td>1312</td>\n",
       "      <td>1130</td>\n",
       "      <td>3770</td>\n",
       "      <td>23</td>\n",
       "      <td>0</td>\n",
       "    </tr>\n",
       "  </tbody>\n",
       "</table>\n",
       "<p>5 rows × 27 columns</p>\n",
       "</div>"
      ],
      "text/plain": [
       "        ACRES  handball  tennis  basketball  adult_soft  track_and  \\\n",
       "index                                                                \n",
       "0       1.874         0       0           3           1          0   \n",
       "1       6.379         4       0           1           0          0   \n",
       "2      35.713        12       8           4           4          0   \n",
       "3       0.181         0       0           0           0          0   \n",
       "4       0.293         0       0           0           0          0   \n",
       "\n",
       "       play_area_count  preserve_count  spray_count  SUM_TOTPOPSVCA  \\\n",
       "index                                                                 \n",
       "0                    4               0            1           26177   \n",
       "1                    5               0            1           29767   \n",
       "2                    7               0            2           42017   \n",
       "3                    0               0            0           28730   \n",
       "4                    1               0            1           32449   \n",
       "\n",
       "          ...       SUM_WHITE_SVC  SUM_BLACK_SVC  SUM_AMERINDSVC  \\\n",
       "index     ...                                                      \n",
       "0         ...               21238           1136              51   \n",
       "1         ...               23922            174              27   \n",
       "2         ...               34676            564             112   \n",
       "3         ...               19543           1013             170   \n",
       "4         ...                6323          22999             125   \n",
       "\n",
       "       SUM_ASIAN_SVC  SUM_PACIFICSVC  SUM_OTHRACESVC  SUM_RACE2UPSVC  \\\n",
       "index                                                                  \n",
       "0               1769              10             865            1104   \n",
       "1               4523              11             758             349   \n",
       "2               3412              20            1926            1320   \n",
       "3               2651              13            4040            1298   \n",
       "4                548              10            1312            1130   \n",
       "\n",
       "       SUM_HISP_SVC  tweet_count  tweet_class  \n",
       "index                                          \n",
       "0              3279          872            2  \n",
       "1              1652           59            1  \n",
       "2              4974         7554            2  \n",
       "3              8766           81            1  \n",
       "4              3770           23            0  \n",
       "\n",
       "[5 rows x 27 columns]"
      ]
     },
     "execution_count": 18,
     "metadata": {},
     "output_type": "execute_result"
    }
   ],
   "source": [
    "parksInfo_noCate = parksInfo_dummied.iloc[:,:27].drop(['total_amenities'], axis=1)\n",
    "parksInfo_noCate['tweet_class'] = parksInfo_noCate.apply(lambda row: label_tweets (row),axis=1)\n",
    "parksInfo_noCate.head()"
   ]
  },
  {
   "cell_type": "code",
   "execution_count": 21,
   "metadata": {},
   "outputs": [
    {
     "data": {
      "text/plain": [
       "{'n_estimators': 11}"
      ]
     },
     "execution_count": 21,
     "metadata": {},
     "output_type": "execute_result"
    }
   ],
   "source": [
    "y = np.array(parksInfo_noCate.tweet_class)\n",
    "X = parksInfo_noCate.drop(['tweet_class','tweet_count'], axis=1)\n",
    "\n",
    "from sklearn.model_selection import train_test_split\n",
    "\n",
    "train_X, test_X, train_y, test_y = train_test_split(X, y, test_size = 0.2, random_state = 42)\n",
    "\n",
    "# Create the parameter grid based on the results of random search \n",
    "param_grid = {'n_estimators': range(1,50)}\n",
    "# Create a based model\n",
    "rf = RandomForestClassifier()\n",
    "# Instantiate the grid search model\n",
    "grid_search = GridSearchCV(estimator = rf, param_grid = param_grid)\n",
    "\n",
    "grid_search.fit(train_X, train_y)\n",
    "grid_search.best_params_"
   ]
  },
  {
   "cell_type": "code",
   "execution_count": 22,
   "metadata": {},
   "outputs": [
    {
     "name": "stdout",
     "output_type": "stream",
     "text": [
      "Train Accuracy ::  0.9871794871794872\n",
      "Test Accuracy  ::  0.65\n"
     ]
    }
   ],
   "source": [
    "rf = RandomForestClassifier(n_estimators=11)\n",
    "# Train the model on training data\n",
    "rf.fit(train_X, train_y)\n",
    "\n",
    "predict_test = rf.predict(test_X)\n",
    "\n",
    "print \"Train Accuracy :: \", accuracy_score(train_y, rf.predict(train_X))\n",
    "print \"Test Accuracy  :: \", accuracy_score(test_y, predict_test)"
   ]
  },
  {
   "cell_type": "code",
   "execution_count": 44,
   "metadata": {},
   "outputs": [
    {
     "name": "stdout",
     "output_type": "stream",
     "text": [
      "[(u'ACRES', 0.14), (u'SUM_HHIHIGHSVCA', 0.08), (u'SUM_SENIORSVCA', 0.07), (u'SUM_HHIMEDSVCA', 0.07), (u'SUM_WHITE_SVC', 0.07), (u'SUM_KIDSVCA', 0.05), (u'SUM_TOTHHSVCA', 0.05), (u'SUM_AMERINDSVC', 0.05), (u'SUM_ASIAN_SVC', 0.05), (u'SUM_RACE2UPSVC', 0.05), (u'SUM_TOTPOPSVCA', 0.04), (u'SUM_YOUNGPROSVCA', 0.04), (u'SUM_HHILOWSVCA', 0.04), (u'SUM_BLACK_SVC', 0.04), (u'play_area_count', 0.03), (u'SUM_PACIFICSVC', 0.03), (u'SUM_HISP_SVC', 0.03), (u'handball', 0.02), (u'basketball', 0.02), (u'spray_count', 0.02), (u'SUM_OTHRACESVC', 0.02), (u'tennis', 0.0), (u'adult_soft', 0.0), (u'track_and', 0.0), (u'preserve_count', 0.0)]\n"
     ]
    }
   ],
   "source": [
    "importances = list(rf.feature_importances_)\n",
    "\n",
    "feature_list = list(X.columns)\n",
    "feature_importances = [(feature, round(importance, 2)) for feature, importance in zip(feature_list, importances)]\n",
    "print(sorted(feature_importances, key = lambda x: x[1], reverse=True))"
   ]
  },
  {
   "cell_type": "code",
   "execution_count": null,
   "metadata": {},
   "outputs": [],
   "source": []
  }
 ],
 "metadata": {
  "kernelspec": {
   "display_name": "Python 2",
   "language": "python",
   "name": "python2"
  },
  "language_info": {
   "codemirror_mode": {
    "name": "ipython",
    "version": 2
   },
   "file_extension": ".py",
   "mimetype": "text/x-python",
   "name": "python",
   "nbconvert_exporter": "python",
   "pygments_lexer": "ipython2",
   "version": "2.7.15"
  }
 },
 "nbformat": 4,
 "nbformat_minor": 2
}
