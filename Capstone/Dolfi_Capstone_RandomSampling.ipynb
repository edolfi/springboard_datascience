{
 "cells": [
  {
   "cell_type": "code",
   "execution_count": 8,
   "metadata": {
    "collapsed": false
   },
   "outputs": [
    {
     "name": "stdout",
     "output_type": "stream",
     "text": [
      "<class 'pandas.core.frame.DataFrame'>\n",
      "Index: 1705 entries, B001 to XT03\n",
      "Data columns (total 34 columns):\n",
      "﻿                   1705 non-null int64\n",
      "BOROUGH             1705 non-null object\n",
      "ACRES               1705 non-null float64\n",
      "SIGNNAME            1705 non-null object\n",
      "TYPECATEGO          1705 non-null object\n",
      "handball            1705 non-null float64\n",
      "tennis              1705 non-null float64\n",
      "basketball          1705 non-null float64\n",
      "adult_soft          1705 non-null float64\n",
      "track_and           1705 non-null float64\n",
      "play_area_count     1705 non-null float64\n",
      "preserve_count      1705 non-null float64\n",
      "spray_count         1705 non-null float64\n",
      "OBJECTID            1705 non-null int64\n",
      "TPL_P_NAME          1705 non-null object\n",
      "FREQUENCY           1705 non-null int64\n",
      "SUM_SVCAREA         1705 non-null float64\n",
      "SUM_TOTPOPSVCA      1705 non-null int64\n",
      "SUM_KIDSVCA         1705 non-null int64\n",
      "SUM_YOUNGPROSVCA    1705 non-null int64\n",
      "SUM_SENIORSVCA      1705 non-null int64\n",
      "SUM_HHILOWSVCA      1705 non-null int64\n",
      "SUM_HHIMEDSVCA      1705 non-null int64\n",
      "SUM_HHIHIGHSVCA     1705 non-null int64\n",
      "SUM_TOTHHSVCA       1705 non-null int64\n",
      "SUM_WHITE_SVC       1705 non-null int64\n",
      "SUM_BLACK_SVC       1705 non-null int64\n",
      "SUM_AMERINDSVC      1705 non-null int64\n",
      "SUM_ASIAN_SVC       1705 non-null int64\n",
      "SUM_PACIFICSVC      1705 non-null int64\n",
      "SUM_OTHRACESVC      1705 non-null int64\n",
      "SUM_RACE2UPSVC      1705 non-null int64\n",
      "SUM_HISP_SVC        1705 non-null int64\n",
      "total_amenities     1705 non-null float64\n",
      "dtypes: float64(11), int64(19), object(4)\n",
      "memory usage: 432.9+ KB\n"
     ]
    }
   ],
   "source": [
    "# generate random sample of parks from CSV created via data wrangling\n",
    "import pandas as pd, os, matplotlib.pyplot as plt\n",
    "\n",
    "parks_df = pd.read_csv(r'Y:\\Springboard\\ParkFeatures_joined.csv', index_col = 'GISPROPNUM')\n",
    "parks_df.dropna(inplace=True)\n",
    "parks_df.info()"
   ]
  },
  {
   "cell_type": "code",
   "execution_count": 10,
   "metadata": {
    "collapsed": false
   },
   "outputs": [],
   "source": [
    "import numpy as np"
   ]
  },
  {
   "cell_type": "code",
   "execution_count": 12,
   "metadata": {
    "collapsed": false
   },
   "outputs": [
    {
     "name": "stdout",
     "output_type": "stream",
     "text": [
      "['M007' 'M280' 'Q444' 'M358' 'X336' 'R028' 'Q009' 'X289' 'M278' 'B429'\n",
      " 'B357' 'M256' 'R098' 'M249' 'B058' 'B085' 'B337' 'B357' 'M017' 'B042'\n",
      " 'R165' 'R020' 'XS36' 'QS61' 'RS05' 'BS90' 'B261' 'B324' 'MS17' 'M025'\n",
      " 'R117' 'Q266' 'R126' 'B582' 'M079' 'B334' 'B219' 'QS23' 'X292' 'B302'\n",
      " 'M365' 'Q267' 'M238' 'QT20' 'B121' 'Q354' 'QS44' 'M241' 'X137' 'X291'\n",
      " 'B359' 'X201' 'X131' 'X365' 'B251' 'QS57' 'Q471' 'RS24' 'B432' 'Q051'\n",
      " 'XS08' 'B209' 'Q102' 'X126' 'X266A' 'QS36' 'BS65' 'X302' 'B210W' 'QS63'\n",
      " 'M231' 'M082' 'Q293' 'Q294' 'B154' 'XS15' 'M402' 'X180' 'M323' 'B223NA'\n",
      " 'M127' 'M194' 'BT10' 'B019' 'Q362' 'R059' 'B265' 'X259' 'BT03' 'X040'\n",
      " 'X080' 'Q165' 'M130' 'X182' 'B210P' 'Q475' 'M198' 'R079' 'Q011' 'X365']\n"
     ]
    }
   ],
   "source": [
    "#take random sample of parks in parks csv\n",
    "testy_test = np.random.choice(parks_df.index, 100)\n",
    "print(testy_test)\n",
    "parks_rand_s = pd.Series(testy_test)"
   ]
  },
  {
   "cell_type": "code",
   "execution_count": 13,
   "metadata": {
    "collapsed": false
   },
   "outputs": [],
   "source": [
    "parks_rand_s.to_csv(r'Y:/Springboard/Parks_RandSample.csv')"
   ]
  },
  {
   "cell_type": "code",
   "execution_count": null,
   "metadata": {
    "collapsed": true
   },
   "outputs": [],
   "source": []
  }
 ],
 "metadata": {
  "kernelspec": {
   "display_name": "Python 2",
   "language": "python",
   "name": "python2"
  },
  "language_info": {
   "codemirror_mode": {
    "name": "ipython",
    "version": 2
   },
   "file_extension": ".py",
   "mimetype": "text/x-python",
   "name": "python",
   "nbconvert_exporter": "python",
   "pygments_lexer": "ipython2",
   "version": "2.7.10"
  }
 },
 "nbformat": 4,
 "nbformat_minor": 0
}
